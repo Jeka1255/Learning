{
 "cells": [
  {
   "cell_type": "code",
   "execution_count": 2,
   "id": "5932eec5-f72c-4f53-8ec7-f5bdef0b81ea",
   "metadata": {},
   "outputs": [],
   "source": [
    "import pandas as pd\n",
    "from read_db.CH import Getch\n",
    "import pandahouse\n",
    "from datetime import date,timedelta, datetime\n",
    "import telegram\n",
    "import seaborn as sns\n",
    "import matplotlib.pyplot as plt\n",
    "import io\n",
    "sns.set(style ='ticks')\n",
    "import hashlib\n",
    "from scipy import stats\n",
    "import numpy as np\n",
    "#import swifter\n",
    "import statsmodels.api as sm\n",
    "from statsmodels.graphics.gofplots import qqplot_2samples\n",
    "from sklearn.preprocessing import MinMaxScaler, StandardScaler"
   ]
  },
  {
   "cell_type": "code",
   "execution_count": 3,
   "id": "979c1e4b-2a98-46cd-8a8c-4f8012b5a238",
   "metadata": {},
   "outputs": [],
   "source": [
    "df = Getch(\n",
    "    '''\n",
    "    select  toDate(time) as day\n",
    "            ,countIf(post_id, action='like') as like\n",
    "            ,countIf(post_id,action='view') as view\n",
    "            ,like/view as ctr\n",
    "    from simulator_20220520.feed_actions \n",
    "    group by day\n",
    "    '''\n",
    "    ).df"
   ]
  },
  {
   "cell_type": "code",
   "execution_count": 4,
   "id": "57c94ca5-0970-45c8-8f9f-06b980e7e666",
   "metadata": {},
   "outputs": [
    {
     "data": {
      "text/html": [
       "<div>\n",
       "<style scoped>\n",
       "    .dataframe tbody tr th:only-of-type {\n",
       "        vertical-align: middle;\n",
       "    }\n",
       "\n",
       "    .dataframe tbody tr th {\n",
       "        vertical-align: top;\n",
       "    }\n",
       "\n",
       "    .dataframe thead th {\n",
       "        text-align: right;\n",
       "    }\n",
       "</style>\n",
       "<table border=\"1\" class=\"dataframe\">\n",
       "  <thead>\n",
       "    <tr style=\"text-align: right;\">\n",
       "      <th></th>\n",
       "      <th>day</th>\n",
       "      <th>like</th>\n",
       "      <th>view</th>\n",
       "      <th>ctr</th>\n",
       "    </tr>\n",
       "  </thead>\n",
       "  <tbody>\n",
       "    <tr>\n",
       "      <th>0</th>\n",
       "      <td>2022-03-28</td>\n",
       "      <td>1880</td>\n",
       "      <td>8208</td>\n",
       "      <td>0.229045</td>\n",
       "    </tr>\n",
       "    <tr>\n",
       "      <th>1</th>\n",
       "      <td>2022-03-29</td>\n",
       "      <td>13305</td>\n",
       "      <td>60906</td>\n",
       "      <td>0.218451</td>\n",
       "    </tr>\n",
       "  </tbody>\n",
       "</table>\n",
       "</div>"
      ],
      "text/plain": [
       "         day   like   view       ctr\n",
       "0 2022-03-28   1880   8208  0.229045\n",
       "1 2022-03-29  13305  60906  0.218451"
      ]
     },
     "execution_count": 4,
     "metadata": {},
     "output_type": "execute_result"
    }
   ],
   "source": [
    "df.head(2)"
   ]
  },
  {
   "cell_type": "code",
   "execution_count": 5,
   "id": "099fe4c3-0484-4017-860f-c20054dd839b",
   "metadata": {},
   "outputs": [],
   "source": [
    "df_1 = df[['like','view']]"
   ]
  },
  {
   "cell_type": "code",
   "execution_count": 6,
   "id": "8ed24564-628f-4851-bf2c-e060bd7f66ca",
   "metadata": {},
   "outputs": [],
   "source": [
    "def autoNorm(dataset):\n",
    "    x = dateset[:, 0:1]\n",
    "    std = StandardScaler()\n",
    "    x_std = std.fit_transform()\n",
    "    print(x_std[2])\n",
    "    print(np.average(x))\n",
    "    print(np.std(x))\n",
    "    print((x[2]-np.mean(x))/np.std(x))"
   ]
  },
  {
   "cell_type": "code",
   "execution_count": 7,
   "id": "de785051-36c8-40d3-b0ac-4c5a65bf1fc8",
   "metadata": {},
   "outputs": [
    {
     "ename": "NameError",
     "evalue": "name 'dateset' is not defined",
     "output_type": "error",
     "traceback": [
      "\u001b[0;31m---------------------------------------------------------------------------\u001b[0m",
      "\u001b[0;31mNameError\u001b[0m                                 Traceback (most recent call last)",
      "\u001b[0;32m/tmp/ipykernel_229/2212503716.py\u001b[0m in \u001b[0;36m<module>\u001b[0;34m\u001b[0m\n\u001b[1;32m      1\u001b[0m \u001b[0;32mif\u001b[0m \u001b[0m__name__\u001b[0m \u001b[0;34m==\u001b[0m \u001b[0;34m'__main__'\u001b[0m\u001b[0;34m:\u001b[0m\u001b[0;34m\u001b[0m\u001b[0;34m\u001b[0m\u001b[0m\n\u001b[1;32m      2\u001b[0m     \u001b[0mdf_1\u001b[0m \u001b[0;34m=\u001b[0m \u001b[0mdf\u001b[0m\u001b[0;34m[\u001b[0m\u001b[0;34m[\u001b[0m\u001b[0;34m'like'\u001b[0m\u001b[0;34m,\u001b[0m\u001b[0;34m'view'\u001b[0m\u001b[0;34m]\u001b[0m\u001b[0;34m]\u001b[0m\u001b[0;34m\u001b[0m\u001b[0;34m\u001b[0m\u001b[0m\n\u001b[0;32m----> 3\u001b[0;31m     \u001b[0mautoNorm\u001b[0m\u001b[0;34m(\u001b[0m\u001b[0mdf_1\u001b[0m\u001b[0;34m)\u001b[0m\u001b[0;34m\u001b[0m\u001b[0;34m\u001b[0m\u001b[0m\n\u001b[0m",
      "\u001b[0;32m/tmp/ipykernel_229/3675062594.py\u001b[0m in \u001b[0;36mautoNorm\u001b[0;34m(dataset)\u001b[0m\n\u001b[1;32m      1\u001b[0m \u001b[0;32mdef\u001b[0m \u001b[0mautoNorm\u001b[0m\u001b[0;34m(\u001b[0m\u001b[0mdataset\u001b[0m\u001b[0;34m)\u001b[0m\u001b[0;34m:\u001b[0m\u001b[0;34m\u001b[0m\u001b[0;34m\u001b[0m\u001b[0m\n\u001b[0;32m----> 2\u001b[0;31m     \u001b[0mx\u001b[0m \u001b[0;34m=\u001b[0m \u001b[0mdateset\u001b[0m\u001b[0;34m[\u001b[0m\u001b[0;34m:\u001b[0m\u001b[0;34m,\u001b[0m \u001b[0;36m0\u001b[0m\u001b[0;34m:\u001b[0m\u001b[0;36m1\u001b[0m\u001b[0;34m]\u001b[0m\u001b[0;34m\u001b[0m\u001b[0;34m\u001b[0m\u001b[0m\n\u001b[0m\u001b[1;32m      3\u001b[0m     \u001b[0mstd\u001b[0m \u001b[0;34m=\u001b[0m \u001b[0mStandardScaler\u001b[0m\u001b[0;34m(\u001b[0m\u001b[0;34m)\u001b[0m\u001b[0;34m\u001b[0m\u001b[0;34m\u001b[0m\u001b[0m\n\u001b[1;32m      4\u001b[0m     \u001b[0mx_std\u001b[0m \u001b[0;34m=\u001b[0m \u001b[0mstd\u001b[0m\u001b[0;34m.\u001b[0m\u001b[0mfit_transform\u001b[0m\u001b[0;34m(\u001b[0m\u001b[0;34m)\u001b[0m\u001b[0;34m\u001b[0m\u001b[0;34m\u001b[0m\u001b[0m\n\u001b[1;32m      5\u001b[0m     \u001b[0mprint\u001b[0m\u001b[0;34m(\u001b[0m\u001b[0mx_std\u001b[0m\u001b[0;34m[\u001b[0m\u001b[0;36m2\u001b[0m\u001b[0;34m]\u001b[0m\u001b[0;34m)\u001b[0m\u001b[0;34m\u001b[0m\u001b[0;34m\u001b[0m\u001b[0m\n",
      "\u001b[0;31mNameError\u001b[0m: name 'dateset' is not defined"
     ]
    }
   ],
   "source": [
    "if __name__ == '__main__':\n",
    "    df_1 = df[['like','view']]\n",
    "    autoNorm(df_1)"
   ]
  },
  {
   "cell_type": "code",
   "execution_count": 8,
   "id": "684017a6-3dee-417b-8252-a3b2f7a9385a",
   "metadata": {},
   "outputs": [
    {
     "name": "stderr",
     "output_type": "stream",
     "text": [
      "/nfs/env/lib/python3.8/site-packages/statsmodels/graphics/gofplots.py:993: UserWarning: marker is redundantly defined by the 'marker' keyword argument and the fmt string \"bo\" (-> marker='o'). The keyword argument will take precedence.\n",
      "  ax.plot(x, y, fmt, **plot_style)\n"
     ]
    },
    {
     "data": {
      "image/png": "[encoded data removed]",
      "text/plain": [
       "<Figure size 432x288 with 1 Axes>"
      ]
     },
     "metadata": {},
     "output_type": "display_data"
    }
   ],
   "source": [
    "x = df.view\n",
    "y = df.like\n",
    "pp_x = sm.ProbPlot(x)\n",
    "pp_y = sm.ProbPlot(y)\n",
    "qqplot_2samples(pp_x, pp_y, line = '45')\n",
    "plt.show()"
   ]
  },
  {
   "cell_type": "code",
   "execution_count": 9,
   "id": "570381d5-c2c4-44f2-883a-ae68b7ff5605",
   "metadata": {},
   "outputs": [
    {
     "ename": "AttributeError",
     "evalue": "'DataFrame' object has no attribute 'likes'",
     "output_type": "error",
     "traceback": [
      "\u001b[0;31m---------------------------------------------------------------------------\u001b[0m",
      "\u001b[0;31mAttributeError\u001b[0m                            Traceback (most recent call last)",
      "\u001b[0;32m/tmp/ipykernel_229/2686382376.py\u001b[0m in \u001b[0;36m<module>\u001b[0;34m\u001b[0m\n\u001b[0;32m----> 1\u001b[0;31m \u001b[0mdf\u001b[0m\u001b[0;34m.\u001b[0m\u001b[0mlikes\u001b[0m\u001b[0;34m.\u001b[0m\u001b[0mmean\u001b[0m\u001b[0;34m(\u001b[0m\u001b[0;34m)\u001b[0m\u001b[0;34m,\u001b[0m \u001b[0mdf\u001b[0m\u001b[0;34m.\u001b[0m\u001b[0mlikes\u001b[0m\u001b[0;34m.\u001b[0m\u001b[0mmedian\u001b[0m\u001b[0;34m(\u001b[0m\u001b[0;34m)\u001b[0m\u001b[0;34m\u001b[0m\u001b[0;34m\u001b[0m\u001b[0m\n\u001b[0m",
      "\u001b[0;32m/nfs/env/lib/python3.8/site-packages/pandas/core/generic.py\u001b[0m in \u001b[0;36m__getattr__\u001b[0;34m(self, name)\u001b[0m\n\u001b[1;32m   5485\u001b[0m         ):\n\u001b[1;32m   5486\u001b[0m             \u001b[0;32mreturn\u001b[0m \u001b[0mself\u001b[0m\u001b[0;34m[\u001b[0m\u001b[0mname\u001b[0m\u001b[0;34m]\u001b[0m\u001b[0;34m\u001b[0m\u001b[0;34m\u001b[0m\u001b[0m\n\u001b[0;32m-> 5487\u001b[0;31m         \u001b[0;32mreturn\u001b[0m \u001b[0mobject\u001b[0m\u001b[0;34m.\u001b[0m\u001b[0m__getattribute__\u001b[0m\u001b[0;34m(\u001b[0m\u001b[0mself\u001b[0m\u001b[0;34m,\u001b[0m \u001b[0mname\u001b[0m\u001b[0;34m)\u001b[0m\u001b[0;34m\u001b[0m\u001b[0;34m\u001b[0m\u001b[0m\n\u001b[0m\u001b[1;32m   5488\u001b[0m \u001b[0;34m\u001b[0m\u001b[0m\n\u001b[1;32m   5489\u001b[0m     \u001b[0;32mdef\u001b[0m \u001b[0m__setattr__\u001b[0m\u001b[0;34m(\u001b[0m\u001b[0mself\u001b[0m\u001b[0;34m,\u001b[0m \u001b[0mname\u001b[0m\u001b[0;34m:\u001b[0m \u001b[0mstr\u001b[0m\u001b[0;34m,\u001b[0m \u001b[0mvalue\u001b[0m\u001b[0;34m)\u001b[0m \u001b[0;34m->\u001b[0m \u001b[0;32mNone\u001b[0m\u001b[0;34m:\u001b[0m\u001b[0;34m\u001b[0m\u001b[0;34m\u001b[0m\u001b[0m\n",
      "\u001b[0;31mAttributeError\u001b[0m: 'DataFrame' object has no attribute 'likes'"
     ]
    }
   ],
   "source": [
    "df.likes.mean(), df.likes.median()"
   ]
  },
  {
   "cell_type": "code",
   "execution_count": 10,
   "id": "b33f600b-14d0-472e-8286-df550cdab7f7",
   "metadata": {},
   "outputs": [
    {
     "data": {
      "text/html": [
       "<div>\n",
       "<style scoped>\n",
       "    .dataframe tbody tr th:only-of-type {\n",
       "        vertical-align: middle;\n",
       "    }\n",
       "\n",
       "    .dataframe tbody tr th {\n",
       "        vertical-align: top;\n",
       "    }\n",
       "\n",
       "    .dataframe thead th {\n",
       "        text-align: right;\n",
       "    }\n",
       "</style>\n",
       "<table border=\"1\" class=\"dataframe\">\n",
       "  <thead>\n",
       "    <tr style=\"text-align: right;\">\n",
       "      <th></th>\n",
       "      <th>like</th>\n",
       "      <th>view</th>\n",
       "      <th>ctr</th>\n",
       "    </tr>\n",
       "  </thead>\n",
       "  <tbody>\n",
       "    <tr>\n",
       "      <th>count</th>\n",
       "      <td>79.000000</td>\n",
       "      <td>79.000000</td>\n",
       "      <td>79.000000</td>\n",
       "    </tr>\n",
       "    <tr>\n",
       "      <th>mean</th>\n",
       "      <td>101908.012658</td>\n",
       "      <td>487339.215190</td>\n",
       "      <td>0.208823</td>\n",
       "    </tr>\n",
       "    <tr>\n",
       "      <th>std</th>\n",
       "      <td>37077.091271</td>\n",
       "      <td>171811.137396</td>\n",
       "      <td>0.007900</td>\n",
       "    </tr>\n",
       "    <tr>\n",
       "      <th>min</th>\n",
       "      <td>1880.000000</td>\n",
       "      <td>8208.000000</td>\n",
       "      <td>0.192589</td>\n",
       "    </tr>\n",
       "    <tr>\n",
       "      <th>25%</th>\n",
       "      <td>77127.000000</td>\n",
       "      <td>378311.000000</td>\n",
       "      <td>0.202823</td>\n",
       "    </tr>\n",
       "    <tr>\n",
       "      <th>50%</th>\n",
       "      <td>107670.000000</td>\n",
       "      <td>522143.000000</td>\n",
       "      <td>0.208362</td>\n",
       "    </tr>\n",
       "    <tr>\n",
       "      <th>75%</th>\n",
       "      <td>124479.500000</td>\n",
       "      <td>598895.500000</td>\n",
       "      <td>0.214832</td>\n",
       "    </tr>\n",
       "    <tr>\n",
       "      <th>max</th>\n",
       "      <td>191945.000000</td>\n",
       "      <td>862685.000000</td>\n",
       "      <td>0.229045</td>\n",
       "    </tr>\n",
       "  </tbody>\n",
       "</table>\n",
       "</div>"
      ],
      "text/plain": [
       "                like           view        ctr\n",
       "count      79.000000      79.000000  79.000000\n",
       "mean   101908.012658  487339.215190   0.208823\n",
       "std     37077.091271  171811.137396   0.007900\n",
       "min      1880.000000    8208.000000   0.192589\n",
       "25%     77127.000000  378311.000000   0.202823\n",
       "50%    107670.000000  522143.000000   0.208362\n",
       "75%    124479.500000  598895.500000   0.214832\n",
       "max    191945.000000  862685.000000   0.229045"
      ]
     },
     "execution_count": 10,
     "metadata": {},
     "output_type": "execute_result"
    }
   ],
   "source": [
    "df.describe()"
   ]
  },
  {
   "cell_type": "code",
   "execution_count": 9,
   "id": "13390b3e-a3f8-4c83-a8b3-8f02e85c8671",
   "metadata": {},
   "outputs": [
    {
     "data": {
      "text/html": [
       "<div>\n",
       "<style scoped>\n",
       "    .dataframe tbody tr th:only-of-type {\n",
       "        vertical-align: middle;\n",
       "    }\n",
       "\n",
       "    .dataframe tbody tr th {\n",
       "        vertical-align: top;\n",
       "    }\n",
       "\n",
       "    .dataframe thead th {\n",
       "        text-align: right;\n",
       "    }\n",
       "</style>\n",
       "<table border=\"1\" class=\"dataframe\">\n",
       "  <thead>\n",
       "    <tr style=\"text-align: right;\">\n",
       "      <th></th>\n",
       "      <th>post_id</th>\n",
       "      <th>views</th>\n",
       "    </tr>\n",
       "  </thead>\n",
       "  <tbody>\n",
       "    <tr>\n",
       "      <th>3052</th>\n",
       "      <td>3192</td>\n",
       "      <td>89909</td>\n",
       "    </tr>\n",
       "    <tr>\n",
       "      <th>3631</th>\n",
       "      <td>3795</td>\n",
       "      <td>77235</td>\n",
       "    </tr>\n",
       "    <tr>\n",
       "      <th>3104</th>\n",
       "      <td>3246</td>\n",
       "      <td>76393</td>\n",
       "    </tr>\n",
       "    <tr>\n",
       "      <th>1835</th>\n",
       "      <td>1930</td>\n",
       "      <td>75750</td>\n",
       "    </tr>\n",
       "    <tr>\n",
       "      <th>3909</th>\n",
       "      <td>4088</td>\n",
       "      <td>75064</td>\n",
       "    </tr>\n",
       "    <tr>\n",
       "      <th>...</th>\n",
       "      <td>...</td>\n",
       "      <td>...</td>\n",
       "    </tr>\n",
       "    <tr>\n",
       "      <th>132</th>\n",
       "      <td>141</td>\n",
       "      <td>2</td>\n",
       "    </tr>\n",
       "    <tr>\n",
       "      <th>1495</th>\n",
       "      <td>1576</td>\n",
       "      <td>2</td>\n",
       "    </tr>\n",
       "    <tr>\n",
       "      <th>11</th>\n",
       "      <td>14</td>\n",
       "      <td>1</td>\n",
       "    </tr>\n",
       "    <tr>\n",
       "      <th>49</th>\n",
       "      <td>52</td>\n",
       "      <td>1</td>\n",
       "    </tr>\n",
       "    <tr>\n",
       "      <th>209</th>\n",
       "      <td>219</td>\n",
       "      <td>1</td>\n",
       "    </tr>\n",
       "  </tbody>\n",
       "</table>\n",
       "<p>4623 rows × 2 columns</p>\n",
       "</div>"
      ],
      "text/plain": [
       "      post_id  views\n",
       "3052     3192  89909\n",
       "3631     3795  77235\n",
       "3104     3246  76393\n",
       "1835     1930  75750\n",
       "3909     4088  75064\n",
       "...       ...    ...\n",
       "132       141      2\n",
       "1495     1576      2\n",
       "11         14      1\n",
       "49         52      1\n",
       "209       219      1\n",
       "\n",
       "[4623 rows x 2 columns]"
      ]
     },
     "execution_count": 9,
     "metadata": {},
     "output_type": "execute_result"
    }
   ],
   "source": [
    "df.groupby('post_id', as_index=False).agg({'views':'sum'}).sort_values('views', ascending = False)"
   ]
  },
  {
   "cell_type": "code",
   "execution_count": 26,
   "id": "3d65c78b-c30f-4932-9e41-e62f09c0bd3e",
   "metadata": {},
   "outputs": [
    {
     "name": "stderr",
     "output_type": "stream",
     "text": [
      "/tmp/ipykernel_218/568307328.py:1: FutureWarning: DataFrame.mean and DataFrame.median with numeric_only=None will include datetime64 and datetime64tz columns in a future version.\n",
      "  df.groupby(['day'], as_index=False).agg({'likes':'sum'}).sort_values('likes', ascending = False).mean()\n"
     ]
    },
    {
     "data": {
      "text/plain": [
       "likes    94965.338462\n",
       "dtype: float64"
      ]
     },
     "execution_count": 26,
     "metadata": {},
     "output_type": "execute_result"
    }
   ],
   "source": [
    "df.groupby(['day'], as_index=False).agg({'likes':'sum'}).sort_values('likes', ascending = False).mean()"
   ]
  },
  {
   "cell_type": "code",
   "execution_count": 27,
   "id": "311f7fa7-1afb-42d8-b5fa-c2022c7c16fb",
   "metadata": {},
   "outputs": [
    {
     "name": "stderr",
     "output_type": "stream",
     "text": [
      "/tmp/ipykernel_218/4148226244.py:1: FutureWarning: DataFrame.mean and DataFrame.median with numeric_only=None will include datetime64 and datetime64tz columns in a future version.\n",
      "  df.groupby(['day'], as_index=False).agg({'likes':'sum'}).sort_values('likes', ascending = False).median()\n"
     ]
    },
    {
     "data": {
      "text/plain": [
       "likes    102580.0\n",
       "dtype: float64"
      ]
     },
     "execution_count": 27,
     "metadata": {},
     "output_type": "execute_result"
    }
   ],
   "source": [
    "df.groupby(['day'], as_index=False).agg({'likes':'sum'}).sort_values('likes', ascending = False).median()"
   ]
  },
  {
   "cell_type": "code",
   "execution_count": 20,
   "id": "bcbcdb46-812c-48da-868b-4f568a46c509",
   "metadata": {},
   "outputs": [],
   "source": [
    "df = Getch(\n",
    "    '''\n",
    "    select post_id\n",
    "            ,sum(action='like') as likes\n",
    "            ,sum(action='view') as views\n",
    "            ,likes/views as ctr\n",
    "    from simulator_20220520.feed_actions \n",
    "    group by post_id\n",
    "    '''\n",
    "    ).df"
   ]
  },
  {
   "cell_type": "code",
   "execution_count": 21,
   "id": "52c74dca-f881-48b6-a2bc-601aac02321a",
   "metadata": {},
   "outputs": [
    {
     "data": {
      "text/html": [
       "<div>\n",
       "<style scoped>\n",
       "    .dataframe tbody tr th:only-of-type {\n",
       "        vertical-align: middle;\n",
       "    }\n",
       "\n",
       "    .dataframe tbody tr th {\n",
       "        vertical-align: top;\n",
       "    }\n",
       "\n",
       "    .dataframe thead th {\n",
       "        text-align: right;\n",
       "    }\n",
       "</style>\n",
       "<table border=\"1\" class=\"dataframe\">\n",
       "  <thead>\n",
       "    <tr style=\"text-align: right;\">\n",
       "      <th></th>\n",
       "      <th>post_id</th>\n",
       "      <th>likes</th>\n",
       "      <th>views</th>\n",
       "      <th>ctr</th>\n",
       "    </tr>\n",
       "  </thead>\n",
       "  <tbody>\n",
       "    <tr>\n",
       "      <th>count</th>\n",
       "      <td>5452.000000</td>\n",
       "      <td>5452.000000</td>\n",
       "      <td>5452.000000</td>\n",
       "      <td>5452.000000</td>\n",
       "    </tr>\n",
       "    <tr>\n",
       "      <th>mean</th>\n",
       "      <td>2849.337491</td>\n",
       "      <td>1476.741379</td>\n",
       "      <td>7062.021277</td>\n",
       "      <td>0.134761</td>\n",
       "    </tr>\n",
       "    <tr>\n",
       "      <th>std</th>\n",
       "      <td>1638.015859</td>\n",
       "      <td>2874.021288</td>\n",
       "      <td>11083.767720</td>\n",
       "      <td>0.059292</td>\n",
       "    </tr>\n",
       "    <tr>\n",
       "      <th>min</th>\n",
       "      <td>1.000000</td>\n",
       "      <td>0.000000</td>\n",
       "      <td>1.000000</td>\n",
       "      <td>0.000000</td>\n",
       "    </tr>\n",
       "    <tr>\n",
       "      <th>25%</th>\n",
       "      <td>1430.750000</td>\n",
       "      <td>46.000000</td>\n",
       "      <td>511.000000</td>\n",
       "      <td>0.093238</td>\n",
       "    </tr>\n",
       "    <tr>\n",
       "      <th>50%</th>\n",
       "      <td>2849.500000</td>\n",
       "      <td>303.500000</td>\n",
       "      <td>2464.000000</td>\n",
       "      <td>0.125000</td>\n",
       "    </tr>\n",
       "    <tr>\n",
       "      <th>75%</th>\n",
       "      <td>4272.250000</td>\n",
       "      <td>1457.500000</td>\n",
       "      <td>8648.250000</td>\n",
       "      <td>0.173985</td>\n",
       "    </tr>\n",
       "    <tr>\n",
       "      <th>max</th>\n",
       "      <td>5718.000000</td>\n",
       "      <td>31714.000000</td>\n",
       "      <td>104338.000000</td>\n",
       "      <td>0.375000</td>\n",
       "    </tr>\n",
       "  </tbody>\n",
       "</table>\n",
       "</div>"
      ],
      "text/plain": [
       "           post_id         likes          views          ctr\n",
       "count  5452.000000   5452.000000    5452.000000  5452.000000\n",
       "mean   2849.337491   1476.741379    7062.021277     0.134761\n",
       "std    1638.015859   2874.021288   11083.767720     0.059292\n",
       "min       1.000000      0.000000       1.000000     0.000000\n",
       "25%    1430.750000     46.000000     511.000000     0.093238\n",
       "50%    2849.500000    303.500000    2464.000000     0.125000\n",
       "75%    4272.250000   1457.500000    8648.250000     0.173985\n",
       "max    5718.000000  31714.000000  104338.000000     0.375000"
      ]
     },
     "execution_count": 21,
     "metadata": {},
     "output_type": "execute_result"
    }
   ],
   "source": [
    "df.describe()"
   ]
  },
  {
   "cell_type": "code",
   "execution_count": 22,
   "id": "7b03968b-d7c8-4464-ba40-f8a9a8dac9b3",
   "metadata": {},
   "outputs": [],
   "source": [
    "from statsmodels.datasets import co2\n",
    "import matplotlib.pyplot as plt\n",
    "from pandas.plotting import register_matplotlib_converters\n",
    "register_matplotlib_converters()\n",
    "data = co2.load(True).data\n",
    "data = data.resample('M').mean().ffill()"
   ]
  },
  {
   "cell_type": "code",
   "execution_count": 23,
   "id": "58cfeb79-52cc-4e13-bfda-5c3a46e53421",
   "metadata": {},
   "outputs": [
    {
     "data": {
      "text/html": [
       "<div>\n",
       "<style scoped>\n",
       "    .dataframe tbody tr th:only-of-type {\n",
       "        vertical-align: middle;\n",
       "    }\n",
       "\n",
       "    .dataframe tbody tr th {\n",
       "        vertical-align: top;\n",
       "    }\n",
       "\n",
       "    .dataframe thead th {\n",
       "        text-align: right;\n",
       "    }\n",
       "</style>\n",
       "<table border=\"1\" class=\"dataframe\">\n",
       "  <thead>\n",
       "    <tr style=\"text-align: right;\">\n",
       "      <th></th>\n",
       "      <th>co2</th>\n",
       "    </tr>\n",
       "  </thead>\n",
       "  <tbody>\n",
       "    <tr>\n",
       "      <th>1958-03-31</th>\n",
       "      <td>316.100000</td>\n",
       "    </tr>\n",
       "    <tr>\n",
       "      <th>1958-04-30</th>\n",
       "      <td>317.200000</td>\n",
       "    </tr>\n",
       "    <tr>\n",
       "      <th>1958-05-31</th>\n",
       "      <td>317.433333</td>\n",
       "    </tr>\n",
       "    <tr>\n",
       "      <th>1958-06-30</th>\n",
       "      <td>317.433333</td>\n",
       "    </tr>\n",
       "    <tr>\n",
       "      <th>1958-07-31</th>\n",
       "      <td>315.625000</td>\n",
       "    </tr>\n",
       "    <tr>\n",
       "      <th>...</th>\n",
       "      <td>...</td>\n",
       "    </tr>\n",
       "    <tr>\n",
       "      <th>2001-08-31</th>\n",
       "      <td>369.425000</td>\n",
       "    </tr>\n",
       "    <tr>\n",
       "      <th>2001-09-30</th>\n",
       "      <td>367.880000</td>\n",
       "    </tr>\n",
       "    <tr>\n",
       "      <th>2001-10-31</th>\n",
       "      <td>368.050000</td>\n",
       "    </tr>\n",
       "    <tr>\n",
       "      <th>2001-11-30</th>\n",
       "      <td>369.375000</td>\n",
       "    </tr>\n",
       "    <tr>\n",
       "      <th>2001-12-31</th>\n",
       "      <td>371.020000</td>\n",
       "    </tr>\n",
       "  </tbody>\n",
       "</table>\n",
       "<p>526 rows × 1 columns</p>\n",
       "</div>"
      ],
      "text/plain": [
       "                   co2\n",
       "1958-03-31  316.100000\n",
       "1958-04-30  317.200000\n",
       "1958-05-31  317.433333\n",
       "1958-06-30  317.433333\n",
       "1958-07-31  315.625000\n",
       "...                ...\n",
       "2001-08-31  369.425000\n",
       "2001-09-30  367.880000\n",
       "2001-10-31  368.050000\n",
       "2001-11-30  369.375000\n",
       "2001-12-31  371.020000\n",
       "\n",
       "[526 rows x 1 columns]"
      ]
     },
     "execution_count": 23,
     "metadata": {},
     "output_type": "execute_result"
    }
   ],
   "source": [
    "data"
   ]
  },
  {
   "cell_type": "code",
   "execution_count": 24,
   "id": "7741038b-8169-485d-b4a7-faeab685dba6",
   "metadata": {},
   "outputs": [
    {
     "ename": "ValueError",
     "evalue": "y must be a 1d array",
     "output_type": "error",
     "traceback": [
      "\u001b[0;31m---------------------------------------------------------------------------\u001b[0m",
      "\u001b[0;31mValueError\u001b[0m                                Traceback (most recent call last)",
      "\u001b[0;32m/tmp/ipykernel_229/2398203346.py\u001b[0m in \u001b[0;36m<module>\u001b[0;34m\u001b[0m\n\u001b[1;32m      1\u001b[0m \u001b[0;32mfrom\u001b[0m \u001b[0mstatsmodels\u001b[0m\u001b[0;34m.\u001b[0m\u001b[0mtsa\u001b[0m\u001b[0;34m.\u001b[0m\u001b[0mseasonal\u001b[0m \u001b[0;32mimport\u001b[0m \u001b[0mSTL\u001b[0m\u001b[0;34m\u001b[0m\u001b[0;34m\u001b[0m\u001b[0m\n\u001b[0;32m----> 2\u001b[0;31m \u001b[0mres\u001b[0m \u001b[0;34m=\u001b[0m \u001b[0mSTL\u001b[0m\u001b[0;34m(\u001b[0m\u001b[0mdf\u001b[0m\u001b[0;34m)\u001b[0m\u001b[0;34m.\u001b[0m\u001b[0mfit\u001b[0m\u001b[0;34m(\u001b[0m\u001b[0;34m)\u001b[0m\u001b[0;34m\u001b[0m\u001b[0;34m\u001b[0m\u001b[0m\n\u001b[0m\u001b[1;32m      3\u001b[0m \u001b[0mres\u001b[0m\u001b[0;34m.\u001b[0m\u001b[0mplot\u001b[0m\u001b[0;34m(\u001b[0m\u001b[0;34m)\u001b[0m\u001b[0;34m\u001b[0m\u001b[0;34m\u001b[0m\u001b[0m\n\u001b[1;32m      4\u001b[0m \u001b[0mplt\u001b[0m\u001b[0;34m.\u001b[0m\u001b[0mshow\u001b[0m\u001b[0;34m(\u001b[0m\u001b[0;34m)\u001b[0m\u001b[0;34m\u001b[0m\u001b[0;34m\u001b[0m\u001b[0m\n",
      "\u001b[0;32mstatsmodels/tsa/_stl.pyx\u001b[0m in \u001b[0;36mstatsmodels.tsa._stl.STL.__init__\u001b[0;34m()\u001b[0m\n",
      "\u001b[0;31mValueError\u001b[0m: y must be a 1d array"
     ]
    }
   ],
   "source": [
    "from statsmodels.tsa.seasonal import STL\n",
    "res = STL(df).fit()\n",
    "res.plot()\n",
    "plt.show()"
   ]
  },
  {
   "cell_type": "code",
   "execution_count": null,
   "id": "bd81b767-aadd-4a89-b3b0-2313f1bdbfd1",
   "metadata": {},
   "outputs": [],
   "source": [
    "from statsmodels.tsa.seasonal import STL\n",
    "res = STL(data).fit()\n",
    "res.plot()\n",
    "plt.show()"
   ]
  },
  {
   "cell_type": "code",
   "execution_count": 25,
   "id": "932f3d73-acc5-4bc2-80c8-32d219a6b25c",
   "metadata": {},
   "outputs": [],
   "source": [
    "df_post = Getch(\n",
    "    '''\n",
    "    select post_id,begin_post,finish_post\n",
    "            ,datediff('day',begin_post, finish_post) as day_life\n",
    "            ,sum(action='like') as likes\n",
    "            ,sum(action='view') as views\n",
    "            ,likes/views as ctr\n",
    "    from (\n",
    "    select *\n",
    "    , min(time) over (partition by post_id) as begin_post\n",
    "    , max(time) over (partition by post_id) as finish_post\n",
    "    from simulator_20220520.feed_actions)\n",
    "    group by post_id,begin_post,finish_post\n",
    "    '''\n",
    "    ).df"
   ]
  },
  {
   "cell_type": "code",
   "execution_count": 26,
   "id": "76392cbd-7685-4498-b89c-6a71cf79444c",
   "metadata": {},
   "outputs": [
    {
     "data": {
      "text/html": [
       "<div>\n",
       "<style scoped>\n",
       "    .dataframe tbody tr th:only-of-type {\n",
       "        vertical-align: middle;\n",
       "    }\n",
       "\n",
       "    .dataframe tbody tr th {\n",
       "        vertical-align: top;\n",
       "    }\n",
       "\n",
       "    .dataframe thead th {\n",
       "        text-align: right;\n",
       "    }\n",
       "</style>\n",
       "<table border=\"1\" class=\"dataframe\">\n",
       "  <thead>\n",
       "    <tr style=\"text-align: right;\">\n",
       "      <th></th>\n",
       "      <th>post_id</th>\n",
       "      <th>begin_post</th>\n",
       "      <th>finish_post</th>\n",
       "      <th>day_life</th>\n",
       "      <th>likes</th>\n",
       "      <th>views</th>\n",
       "      <th>ctr</th>\n",
       "    </tr>\n",
       "  </thead>\n",
       "  <tbody>\n",
       "    <tr>\n",
       "      <th>0</th>\n",
       "      <td>2594</td>\n",
       "      <td>2022-05-01 23:05:14</td>\n",
       "      <td>2022-05-03 17:59:02</td>\n",
       "      <td>2</td>\n",
       "      <td>692</td>\n",
       "      <td>4863</td>\n",
       "      <td>0.142299</td>\n",
       "    </tr>\n",
       "    <tr>\n",
       "      <th>1</th>\n",
       "      <td>2354</td>\n",
       "      <td>2022-04-28 18:29:57</td>\n",
       "      <td>2022-04-30 08:01:07</td>\n",
       "      <td>2</td>\n",
       "      <td>540</td>\n",
       "      <td>3873</td>\n",
       "      <td>0.139427</td>\n",
       "    </tr>\n",
       "    <tr>\n",
       "      <th>2</th>\n",
       "      <td>1105</td>\n",
       "      <td>2022-04-11 20:00:05</td>\n",
       "      <td>2022-04-12 03:48:06</td>\n",
       "      <td>1</td>\n",
       "      <td>13</td>\n",
       "      <td>138</td>\n",
       "      <td>0.094203</td>\n",
       "    </tr>\n",
       "    <tr>\n",
       "      <th>3</th>\n",
       "      <td>1118</td>\n",
       "      <td>2022-04-11 19:00:03</td>\n",
       "      <td>2022-04-13 03:25:46</td>\n",
       "      <td>2</td>\n",
       "      <td>256</td>\n",
       "      <td>1914</td>\n",
       "      <td>0.133751</td>\n",
       "    </tr>\n",
       "    <tr>\n",
       "      <th>4</th>\n",
       "      <td>5397</td>\n",
       "      <td>2022-06-10 18:08:42</td>\n",
       "      <td>2022-06-13 01:52:36</td>\n",
       "      <td>3</td>\n",
       "      <td>1617</td>\n",
       "      <td>10043</td>\n",
       "      <td>0.161008</td>\n",
       "    </tr>\n",
       "    <tr>\n",
       "      <th>...</th>\n",
       "      <td>...</td>\n",
       "      <td>...</td>\n",
       "      <td>...</td>\n",
       "      <td>...</td>\n",
       "      <td>...</td>\n",
       "      <td>...</td>\n",
       "      <td>...</td>\n",
       "    </tr>\n",
       "    <tr>\n",
       "      <th>5448</th>\n",
       "      <td>2098</td>\n",
       "      <td>2022-04-24 17:34:42</td>\n",
       "      <td>2022-04-26 09:58:30</td>\n",
       "      <td>2</td>\n",
       "      <td>545</td>\n",
       "      <td>3913</td>\n",
       "      <td>0.139279</td>\n",
       "    </tr>\n",
       "    <tr>\n",
       "      <th>5449</th>\n",
       "      <td>4519</td>\n",
       "      <td>2022-05-28 19:00:10</td>\n",
       "      <td>2022-05-29 03:49:41</td>\n",
       "      <td>1</td>\n",
       "      <td>39</td>\n",
       "      <td>491</td>\n",
       "      <td>0.079430</td>\n",
       "    </tr>\n",
       "    <tr>\n",
       "      <th>5450</th>\n",
       "      <td>4661</td>\n",
       "      <td>2022-05-31 17:49:27</td>\n",
       "      <td>2022-06-01 19:57:21</td>\n",
       "      <td>1</td>\n",
       "      <td>295</td>\n",
       "      <td>2821</td>\n",
       "      <td>0.104573</td>\n",
       "    </tr>\n",
       "    <tr>\n",
       "      <th>5451</th>\n",
       "      <td>3799</td>\n",
       "      <td>2022-05-18 18:26:06</td>\n",
       "      <td>2022-05-18 23:57:46</td>\n",
       "      <td>0</td>\n",
       "      <td>21</td>\n",
       "      <td>312</td>\n",
       "      <td>0.067308</td>\n",
       "    </tr>\n",
       "    <tr>\n",
       "      <th>5452</th>\n",
       "      <td>2352</td>\n",
       "      <td>2022-04-28 21:25:07</td>\n",
       "      <td>2022-04-29 19:55:13</td>\n",
       "      <td>1</td>\n",
       "      <td>153</td>\n",
       "      <td>1517</td>\n",
       "      <td>0.100857</td>\n",
       "    </tr>\n",
       "  </tbody>\n",
       "</table>\n",
       "<p>5453 rows × 7 columns</p>\n",
       "</div>"
      ],
      "text/plain": [
       "      post_id          begin_post         finish_post  day_life  likes  views  \\\n",
       "0        2594 2022-05-01 23:05:14 2022-05-03 17:59:02         2    692   4863   \n",
       "1        2354 2022-04-28 18:29:57 2022-04-30 08:01:07         2    540   3873   \n",
       "2        1105 2022-04-11 20:00:05 2022-04-12 03:48:06         1     13    138   \n",
       "3        1118 2022-04-11 19:00:03 2022-04-13 03:25:46         2    256   1914   \n",
       "4        5397 2022-06-10 18:08:42 2022-06-13 01:52:36         3   1617  10043   \n",
       "...       ...                 ...                 ...       ...    ...    ...   \n",
       "5448     2098 2022-04-24 17:34:42 2022-04-26 09:58:30         2    545   3913   \n",
       "5449     4519 2022-05-28 19:00:10 2022-05-29 03:49:41         1     39    491   \n",
       "5450     4661 2022-05-31 17:49:27 2022-06-01 19:57:21         1    295   2821   \n",
       "5451     3799 2022-05-18 18:26:06 2022-05-18 23:57:46         0     21    312   \n",
       "5452     2352 2022-04-28 21:25:07 2022-04-29 19:55:13         1    153   1517   \n",
       "\n",
       "           ctr  \n",
       "0     0.142299  \n",
       "1     0.139427  \n",
       "2     0.094203  \n",
       "3     0.133751  \n",
       "4     0.161008  \n",
       "...        ...  \n",
       "5448  0.139279  \n",
       "5449  0.079430  \n",
       "5450  0.104573  \n",
       "5451  0.067308  \n",
       "5452  0.100857  \n",
       "\n",
       "[5453 rows x 7 columns]"
      ]
     },
     "execution_count": 26,
     "metadata": {},
     "output_type": "execute_result"
    }
   ],
   "source": [
    "df_post"
   ]
  },
  {
   "cell_type": "code",
   "execution_count": 27,
   "id": "b9bf44e3-bb7a-4546-aa62-d50ae210dd5e",
   "metadata": {},
   "outputs": [
    {
     "data": {
      "text/plain": [
       "<AxesSubplot:xlabel='ctr', ylabel='Count'>"
      ]
     },
     "execution_count": 27,
     "metadata": {},
     "output_type": "execute_result"
    },
    {
     "data": {
      "image/png": "[encoded data removed]",
      "text/plain": [
       "<Figure size 432x288 with 1 Axes>"
      ]
     },
     "metadata": {},
     "output_type": "display_data"
    }
   ],
   "source": [
    "sns.histplot(data =df_post,x='ctr')"
   ]
  },
  {
   "cell_type": "code",
   "execution_count": 28,
   "id": "0a96aa76-aebe-4716-ac70-68ea49d25ceb",
   "metadata": {},
   "outputs": [
    {
     "data": {
      "text/plain": [
       "<AxesSubplot:xlabel='day_life', ylabel='Count'>"
      ]
     },
     "execution_count": 28,
     "metadata": {},
     "output_type": "execute_result"
    },
    {
     "data": {
      "image/png": "[encoded data removed]",
      "text/plain": [
       "<Figure size 432x288 with 1 Axes>"
      ]
     },
     "metadata": {},
     "output_type": "display_data"
    }
   ],
   "source": [
    "sns.histplot(data =df_post,x='day_life')"
   ]
  },
  {
   "cell_type": "code",
   "execution_count": 29,
   "id": "e89f2d1b-0dca-4655-9162-7fc96941bf98",
   "metadata": {},
   "outputs": [
    {
     "name": "stderr",
     "output_type": "stream",
     "text": [
      "*c* argument looks like a single numeric RGB or RGBA sequence, which should be avoided as value-mapping will have precedence in case its length matches with *x* & *y*.  Please use the *color* keyword-argument or provide a 2D array with a single row if you intend to specify the same RGB or RGBA value for all points.\n"
     ]
    },
    {
     "data": {
      "image/png": "[encoded data removed]",
      "text/plain": [
       "<Figure size 432x288 with 1 Axes>"
      ]
     },
     "metadata": {},
     "output_type": "display_data"
    }
   ],
   "source": [
    "'''Визуализация корреляции'''\n",
    "df = df_post\n",
    "xs = df_post['ctr']\n",
    "ys = df_post['day_life'].apply( np.log )\n",
    "pd.DataFrame(np.array([xs,ys]).T).plot.scatter(0, 1, s=12, grid=True)\n",
    "plt.xlabel('CTR')\n",
    "plt.ylabel('Days of life')\n",
    "plt.show()"
   ]
  },
  {
   "cell_type": "code",
   "execution_count": 30,
   "id": "c744e813-84a9-4dad-b470-5518afaa609b",
   "metadata": {},
   "outputs": [
    {
     "data": {
      "text/plain": [
       "0.8893650369196782"
      ]
     },
     "execution_count": 30,
     "metadata": {},
     "output_type": "execute_result"
    }
   ],
   "source": [
    "df_post['ctr'].corr(df_post['day_life'])"
   ]
  },
  {
   "cell_type": "code",
   "execution_count": 31,
   "id": "76f7cc75-001c-419e-8407-30ae21ea54a3",
   "metadata": {},
   "outputs": [
    {
     "data": {
      "text/plain": [
       "<matplotlib.collections.PathCollection at 0x7fac1e01d5b0>"
      ]
     },
     "execution_count": 31,
     "metadata": {},
     "output_type": "execute_result"
    },
    {
     "data": {
      "image/png": "[encoded data removed]",
      "text/plain": [
       "<Figure size 432x288 with 1 Axes>"
      ]
     },
     "metadata": {},
     "output_type": "display_data"
    }
   ],
   "source": [
    "plt.scatter('ctr', 'day_life', data=df_post)"
   ]
  },
  {
   "cell_type": "code",
   "execution_count": 32,
   "id": "20a3f914-3266-4acf-8085-9b7d0fc782d6",
   "metadata": {},
   "outputs": [],
   "source": [
    "df = Getch(\n",
    "    '''\n",
    "    select  toDate(time) as day\n",
    "            ,countIf(post_id, action='like') as like\n",
    "            ,countIf(post_id,action='view') as view\n",
    "            ,like/view as ctr\n",
    "    from simulator_20220520.feed_actions \n",
    "    group by day\n",
    "    '''\n",
    "    ).df"
   ]
  },
  {
   "cell_type": "code",
   "execution_count": 3,
   "id": "55677b09-d0af-439d-99be-23f469c29742",
   "metadata": {},
   "outputs": [],
   "source": [
    "post = Getch(\n",
    "    '''\n",
    "with t1 as (\n",
    "select user_id, min(toDate(time)) as date\n",
    "from simulator_20220520.feed_actions\n",
    "group by user_id\n",
    "\n",
    "), t2 as (\n",
    "select distinct toDate(time) as date\n",
    "from simulator_20220520.feed_actions\n",
    "\n",
    "), t3 as (\n",
    "select *\n",
    ",dateadd(minute,10,begin_post) as datetimelike\n",
    ",if(time <= datetimelike,1,0) as speedlike\n",
    "from\n",
    "(select user_id, post_id, action, time\n",
    ", min(time) over (partition by post_id) as begin_post\n",
    ", max(time) over (partition by post_id) as finish_post\n",
    "from simulator_20220520.feed_actions)\n",
    ")\n",
    "\n",
    "\n",
    "select ad.*\n",
    "      ,dd.number_users\n",
    "      ,reach/dd.number_users as percentage_reach\n",
    "      ,toHour(begin_post) as hour_begin_post\n",
    "      ,if (likes > 0, 'with likes', 'no likes') as type_post\n",
    "from\n",
    "(select post_id,begin_post,finish_post\n",
    "        ,datediff('hour',begin_post, finish_post) as day_life\n",
    "        ,sum(action='like') as likes\n",
    "        ,sum(action='view') as views\n",
    "        ,likes/views as ctr\n",
    "        ,count(distinct user_id) as reach\n",
    "        ,sum(speedlike) as speedlike\n",
    "from t3\n",
    "group by post_id,begin_post,finish_post\n",
    "\n",
    ") ad\n",
    "\n",
    "left join \n",
    "(select date, max(cnt) as number_users\n",
    "from (select t2.date\n",
    "          ,count(t1.user_id) over(order by t2.date) cnt\n",
    "      from t2 left join t1 on t1.date=t2.date) t\n",
    "group by date) dd\n",
    "\n",
    "on dd.date = toDate(ad.begin_post)\n",
    "    \n",
    "    '''\n",
    "    ).df"
   ]
  },
  {
   "cell_type": "code",
   "execution_count": 9,
   "id": "c2aa5d52-bc05-4877-9763-f5483dd834de",
   "metadata": {},
   "outputs": [
    {
     "data": {
      "text/html": [
       "<div>\n",
       "<style scoped>\n",
       "    .dataframe tbody tr th:only-of-type {\n",
       "        vertical-align: middle;\n",
       "    }\n",
       "\n",
       "    .dataframe tbody tr th {\n",
       "        vertical-align: top;\n",
       "    }\n",
       "\n",
       "    .dataframe thead th {\n",
       "        text-align: right;\n",
       "    }\n",
       "</style>\n",
       "<table border=\"1\" class=\"dataframe\">\n",
       "  <thead>\n",
       "    <tr style=\"text-align: right;\">\n",
       "      <th></th>\n",
       "      <th>post_id</th>\n",
       "    </tr>\n",
       "    <tr>\n",
       "      <th>views</th>\n",
       "      <th></th>\n",
       "    </tr>\n",
       "  </thead>\n",
       "  <tbody>\n",
       "    <tr>\n",
       "      <th>1</th>\n",
       "      <td>4</td>\n",
       "    </tr>\n",
       "    <tr>\n",
       "      <th>2</th>\n",
       "      <td>10</td>\n",
       "    </tr>\n",
       "    <tr>\n",
       "      <th>3</th>\n",
       "      <td>8</td>\n",
       "    </tr>\n",
       "    <tr>\n",
       "      <th>4</th>\n",
       "      <td>12</td>\n",
       "    </tr>\n",
       "    <tr>\n",
       "      <th>5</th>\n",
       "      <td>3</td>\n",
       "    </tr>\n",
       "    <tr>\n",
       "      <th>...</th>\n",
       "      <td>...</td>\n",
       "    </tr>\n",
       "    <tr>\n",
       "      <th>76504</th>\n",
       "      <td>1</td>\n",
       "    </tr>\n",
       "    <tr>\n",
       "      <th>77235</th>\n",
       "      <td>1</td>\n",
       "    </tr>\n",
       "    <tr>\n",
       "      <th>89909</th>\n",
       "      <td>1</td>\n",
       "    </tr>\n",
       "    <tr>\n",
       "      <th>97417</th>\n",
       "      <td>1</td>\n",
       "    </tr>\n",
       "    <tr>\n",
       "      <th>104338</th>\n",
       "      <td>1</td>\n",
       "    </tr>\n",
       "  </tbody>\n",
       "</table>\n",
       "<p>3942 rows × 1 columns</p>\n",
       "</div>"
      ],
      "text/plain": [
       "        post_id\n",
       "views          \n",
       "1             4\n",
       "2            10\n",
       "3             8\n",
       "4            12\n",
       "5             3\n",
       "...         ...\n",
       "76504         1\n",
       "77235         1\n",
       "89909         1\n",
       "97417         1\n",
       "104338        1\n",
       "\n",
       "[3942 rows x 1 columns]"
      ]
     },
     "execution_count": 9,
     "metadata": {},
     "output_type": "execute_result"
    }
   ],
   "source": [
    "post.groupby('views').agg({'post_id':'count'})"
   ]
  },
  {
   "cell_type": "code",
   "execution_count": 5,
   "id": "e86b1377-51d5-483a-abf2-148e13fe4c03",
   "metadata": {},
   "outputs": [
    {
     "data": {
      "text/plain": [
       "(array([3.38e+03, 6.02e+02, 3.40e+02, 2.09e+02, 1.67e+02, 1.29e+02,\n",
       "        1.05e+02, 8.60e+01, 5.60e+01, 5.50e+01, 4.60e+01, 3.50e+01,\n",
       "        2.70e+01, 2.50e+01, 2.00e+01, 2.80e+01, 2.60e+01, 1.50e+01,\n",
       "        1.80e+01, 1.70e+01, 1.00e+01, 1.50e+01, 9.00e+00, 5.00e+00,\n",
       "        7.00e+00, 4.00e+00, 5.00e+00, 1.00e+00, 3.00e+00, 5.00e+00,\n",
       "        4.00e+00, 1.00e+00, 2.00e+00, 1.00e+00, 2.00e+00, 3.00e+00,\n",
       "        0.00e+00, 0.00e+00, 0.00e+00, 0.00e+00, 0.00e+00, 1.00e+00,\n",
       "        0.00e+00, 0.00e+00, 0.00e+00, 0.00e+00, 1.00e+00, 0.00e+00,\n",
       "        0.00e+00, 1.00e+00]),\n",
       " array([    0.  ,   634.28,  1268.56,  1902.84,  2537.12,  3171.4 ,\n",
       "         3805.68,  4439.96,  5074.24,  5708.52,  6342.8 ,  6977.08,\n",
       "         7611.36,  8245.64,  8879.92,  9514.2 , 10148.48, 10782.76,\n",
       "        11417.04, 12051.32, 12685.6 , 13319.88, 13954.16, 14588.44,\n",
       "        15222.72, 15857.  , 16491.28, 17125.56, 17759.84, 18394.12,\n",
       "        19028.4 , 19662.68, 20296.96, 20931.24, 21565.52, 22199.8 ,\n",
       "        22834.08, 23468.36, 24102.64, 24736.92, 25371.2 , 26005.48,\n",
       "        26639.76, 27274.04, 27908.32, 28542.6 , 29176.88, 29811.16,\n",
       "        30445.44, 31079.72, 31714.  ]),\n",
       " <BarContainer object of 50 artists>)"
      ]
     },
     "execution_count": 5,
     "metadata": {},
     "output_type": "execute_result"
    },
    {
     "data": {
      "image/png": "[encoded data removed]",
      "text/plain": [
       "<Figure size 432x288 with 1 Axes>"
      ]
     },
     "metadata": {},
     "output_type": "display_data"
    }
   ],
   "source": [
    "plt.hist(post.likes,bins =50)"
   ]
  },
  {
   "cell_type": "code",
   "execution_count": 6,
   "id": "0a83d4c2-931d-4cad-bc5d-eef52cf0b110",
   "metadata": {},
   "outputs": [
    {
     "data": {
      "text/plain": [
       "<seaborn.axisgrid.FacetGrid at 0x7f888528c280>"
      ]
     },
     "execution_count": 6,
     "metadata": {},
     "output_type": "execute_result"
    },
    {
     "data": {
      "image/png": "[encoded data removed]",
      "text/plain": [
       "<Figure size 360x360 with 1 Axes>"
      ]
     },
     "metadata": {},
     "output_type": "display_data"
    },
    {
     "data": {
      "image/png": "[encoded data removed]",
      "text/plain": [
       "<Figure size 360x360 with 1 Axes>"
      ]
     },
     "metadata": {},
     "output_type": "display_data"
    }
   ],
   "source": [
    "sns.displot(post.views,bins=20, kde =True)\n",
    "sns.displot(post.likes,bins=20, kde =True)"
   ]
  },
  {
   "cell_type": "code",
   "execution_count": 55,
   "id": "e522f839-ae9c-4ee6-b849-e78d62ad935b",
   "metadata": {},
   "outputs": [
    {
     "data": {
      "text/plain": [
       "(array([107.,  17.,  36.,  85., 156., 312., 422., 528., 593., 469., 413.,\n",
       "        395., 313., 264., 229., 222., 218., 176., 146., 120., 108.,  82.,\n",
       "         30.,   7.,   2.,   1.,   1.,   0.,   0.,   1.]),\n",
       " array([0.    , 0.0125, 0.025 , 0.0375, 0.05  , 0.0625, 0.075 , 0.0875,\n",
       "        0.1   , 0.1125, 0.125 , 0.1375, 0.15  , 0.1625, 0.175 , 0.1875,\n",
       "        0.2   , 0.2125, 0.225 , 0.2375, 0.25  , 0.2625, 0.275 , 0.2875,\n",
       "        0.3   , 0.3125, 0.325 , 0.3375, 0.35  , 0.3625, 0.375 ]),\n",
       " <BarContainer object of 30 artists>)"
      ]
     },
     "execution_count": 55,
     "metadata": {},
     "output_type": "execute_result"
    },
    {
     "data": {
      "image/png": "[encoded data removed]",
      "text/plain": [
       "<Figure size 432x288 with 1 Axes>"
      ]
     },
     "metadata": {},
     "output_type": "display_data"
    }
   ],
   "source": [
    "plt.hist(post.ctr,bins =30)"
   ]
  },
  {
   "cell_type": "code",
   "execution_count": 56,
   "id": "e1ca24ca-f6f8-4308-8a92-c706f4ab4408",
   "metadata": {},
   "outputs": [
    {
     "data": {
      "text/plain": [
       "(array([1637., 1302.,  916.,  582.,  448.,  282.,  141.,  101.,   33.,\n",
       "          11.]),\n",
       " array([  0.,  17.,  34.,  51.,  68.,  85., 102., 119., 136., 153., 170.]),\n",
       " <BarContainer object of 10 artists>)"
      ]
     },
     "execution_count": 56,
     "metadata": {},
     "output_type": "execute_result"
    },
    {
     "data": {
      "image/png": "[encoded data removed]",
      "text/plain": [
       "<Figure size 432x288 with 1 Axes>"
      ]
     },
     "metadata": {},
     "output_type": "display_data"
    }
   ],
   "source": [
    "plt.hist(post['day_life'])"
   ]
  },
  {
   "cell_type": "code",
   "execution_count": 57,
   "id": "5fa460ff-b259-4162-ba93-7f03f3160e54",
   "metadata": {},
   "outputs": [
    {
     "data": {
      "text/plain": [
       "array([[1.       , 0.9214182],\n",
       "       [0.9214182, 1.       ]])"
      ]
     },
     "execution_count": 57,
     "metadata": {},
     "output_type": "execute_result"
    }
   ],
   "source": [
    " np.corrcoef(post.ctr, post['day_life'])"
   ]
  },
  {
   "cell_type": "code",
   "execution_count": 58,
   "id": "0f7d35a6-6cdc-49cf-bd06-9315636cae17",
   "metadata": {},
   "outputs": [
    {
     "data": {
      "text/plain": [
       "array([[1.        , 0.82680687],\n",
       "       [0.82680687, 1.        ]])"
      ]
     },
     "execution_count": 58,
     "metadata": {},
     "output_type": "execute_result"
    }
   ],
   "source": [
    " np.corrcoef(post.likes, post['day_life'])"
   ]
  },
  {
   "cell_type": "code",
   "execution_count": 59,
   "id": "3c0d368b-ef79-42a5-b4c5-88d4a3ec0b47",
   "metadata": {},
   "outputs": [
    {
     "data": {
      "text/plain": [
       "array([[1.        , 0.87092256],\n",
       "       [0.87092256, 1.        ]])"
      ]
     },
     "execution_count": 59,
     "metadata": {},
     "output_type": "execute_result"
    }
   ],
   "source": [
    " np.corrcoef(post.views, post['day_life'])"
   ]
  },
  {
   "cell_type": "code",
   "execution_count": 60,
   "id": "622152d8-5018-478f-a2f4-af1f74cacfb1",
   "metadata": {},
   "outputs": [
    {
     "data": {
      "text/plain": [
       "<AxesSubplot:xlabel='day_life', ylabel='likes'>"
      ]
     },
     "execution_count": 60,
     "metadata": {},
     "output_type": "execute_result"
    },
    {
     "data": {
      "image/png": "[encoded data removed]",
      "text/plain": [
       "<Figure size 432x288 with 1 Axes>"
      ]
     },
     "metadata": {},
     "output_type": "display_data"
    }
   ],
   "source": [
    "sns.scatterplot(data = post, x ='day_life',y = 'likes')"
   ]
  },
  {
   "cell_type": "code",
   "execution_count": 61,
   "id": "8260b67f-db67-4394-b666-c7c7b92cdeef",
   "metadata": {},
   "outputs": [],
   "source": [
    "post['day_life_log'] =np.log(post[['day_life']])"
   ]
  },
  {
   "cell_type": "code",
   "execution_count": 62,
   "id": "21bb6ce5-ccdb-43f8-9646-495ddbba304b",
   "metadata": {},
   "outputs": [
    {
     "data": {
      "text/html": [
       "<div>\n",
       "<style scoped>\n",
       "    .dataframe tbody tr th:only-of-type {\n",
       "        vertical-align: middle;\n",
       "    }\n",
       "\n",
       "    .dataframe tbody tr th {\n",
       "        vertical-align: top;\n",
       "    }\n",
       "\n",
       "    .dataframe thead th {\n",
       "        text-align: right;\n",
       "    }\n",
       "</style>\n",
       "<table border=\"1\" class=\"dataframe\">\n",
       "  <thead>\n",
       "    <tr style=\"text-align: right;\">\n",
       "      <th></th>\n",
       "      <th>day_life</th>\n",
       "      <th>likes</th>\n",
       "      <th>views</th>\n",
       "      <th>ctr</th>\n",
       "    </tr>\n",
       "  </thead>\n",
       "  <tbody>\n",
       "    <tr>\n",
       "      <th>day_life</th>\n",
       "      <td>1.000000</td>\n",
       "      <td>0.826807</td>\n",
       "      <td>0.870923</td>\n",
       "      <td>0.921418</td>\n",
       "    </tr>\n",
       "    <tr>\n",
       "      <th>likes</th>\n",
       "      <td>0.826807</td>\n",
       "      <td>1.000000</td>\n",
       "      <td>0.990445</td>\n",
       "      <td>0.750431</td>\n",
       "    </tr>\n",
       "    <tr>\n",
       "      <th>views</th>\n",
       "      <td>0.870923</td>\n",
       "      <td>0.990445</td>\n",
       "      <td>1.000000</td>\n",
       "      <td>0.799782</td>\n",
       "    </tr>\n",
       "    <tr>\n",
       "      <th>ctr</th>\n",
       "      <td>0.921418</td>\n",
       "      <td>0.750431</td>\n",
       "      <td>0.799782</td>\n",
       "      <td>1.000000</td>\n",
       "    </tr>\n",
       "  </tbody>\n",
       "</table>\n",
       "</div>"
      ],
      "text/plain": [
       "          day_life     likes     views       ctr\n",
       "day_life  1.000000  0.826807  0.870923  0.921418\n",
       "likes     0.826807  1.000000  0.990445  0.750431\n",
       "views     0.870923  0.990445  1.000000  0.799782\n",
       "ctr       0.921418  0.750431  0.799782  1.000000"
      ]
     },
     "execution_count": 62,
     "metadata": {},
     "output_type": "execute_result"
    }
   ],
   "source": [
    "post[['day_life','likes','views','ctr']].corr()"
   ]
  },
  {
   "cell_type": "code",
   "execution_count": 63,
   "id": "401becf6-7655-4384-b429-d4102810accf",
   "metadata": {},
   "outputs": [
    {
     "data": {
      "text/html": [
       "<div>\n",
       "<style scoped>\n",
       "    .dataframe tbody tr th:only-of-type {\n",
       "        vertical-align: middle;\n",
       "    }\n",
       "\n",
       "    .dataframe tbody tr th {\n",
       "        vertical-align: top;\n",
       "    }\n",
       "\n",
       "    .dataframe thead th {\n",
       "        text-align: right;\n",
       "    }\n",
       "</style>\n",
       "<table border=\"1\" class=\"dataframe\">\n",
       "  <thead>\n",
       "    <tr style=\"text-align: right;\">\n",
       "      <th></th>\n",
       "      <th>post_id</th>\n",
       "      <th>begin_post</th>\n",
       "      <th>finish_post</th>\n",
       "      <th>day_life</th>\n",
       "      <th>likes</th>\n",
       "      <th>views</th>\n",
       "      <th>ctr</th>\n",
       "      <th>reach</th>\n",
       "      <th>speedlike</th>\n",
       "      <th>number_users</th>\n",
       "      <th>percentage_reach</th>\n",
       "      <th>hour_begin_post</th>\n",
       "      <th>type_post</th>\n",
       "      <th>day_life_log</th>\n",
       "    </tr>\n",
       "  </thead>\n",
       "  <tbody>\n",
       "    <tr>\n",
       "      <th>1001</th>\n",
       "      <td>4866</td>\n",
       "      <td>2022-06-03 16:33:24</td>\n",
       "      <td>2022-06-10 13:59:50</td>\n",
       "      <td>165</td>\n",
       "      <td>31714</td>\n",
       "      <td>104338</td>\n",
       "      <td>0.303954</td>\n",
       "      <td>55331</td>\n",
       "      <td>401</td>\n",
       "      <td>131331</td>\n",
       "      <td>0.421310</td>\n",
       "      <td>16</td>\n",
       "      <td>with likes</td>\n",
       "      <td>5.105945</td>\n",
       "    </tr>\n",
       "    <tr>\n",
       "      <th>2124</th>\n",
       "      <td>5127</td>\n",
       "      <td>2022-06-07 17:18:44</td>\n",
       "      <td>2022-06-14 13:54:49</td>\n",
       "      <td>164</td>\n",
       "      <td>29637</td>\n",
       "      <td>97417</td>\n",
       "      <td>0.304228</td>\n",
       "      <td>53550</td>\n",
       "      <td>406</td>\n",
       "      <td>135159</td>\n",
       "      <td>0.396200</td>\n",
       "      <td>17</td>\n",
       "      <td>with likes</td>\n",
       "      <td>5.099866</td>\n",
       "    </tr>\n",
       "    <tr>\n",
       "      <th>1245</th>\n",
       "      <td>3192</td>\n",
       "      <td>2022-05-08 19:28:44</td>\n",
       "      <td>2022-05-15 19:57:50</td>\n",
       "      <td>168</td>\n",
       "      <td>26507</td>\n",
       "      <td>89909</td>\n",
       "      <td>0.294820</td>\n",
       "      <td>44756</td>\n",
       "      <td>373</td>\n",
       "      <td>83971</td>\n",
       "      <td>0.532994</td>\n",
       "      <td>19</td>\n",
       "      <td>with likes</td>\n",
       "      <td>5.123964</td>\n",
       "    </tr>\n",
       "    <tr>\n",
       "      <th>5399</th>\n",
       "      <td>3795</td>\n",
       "      <td>2022-05-18 13:03:23</td>\n",
       "      <td>2022-05-24 11:59:32</td>\n",
       "      <td>142</td>\n",
       "      <td>22224</td>\n",
       "      <td>77235</td>\n",
       "      <td>0.287745</td>\n",
       "      <td>42815</td>\n",
       "      <td>277</td>\n",
       "      <td>104208</td>\n",
       "      <td>0.410861</td>\n",
       "      <td>13</td>\n",
       "      <td>with likes</td>\n",
       "      <td>4.955827</td>\n",
       "    </tr>\n",
       "    <tr>\n",
       "      <th>4459</th>\n",
       "      <td>5165</td>\n",
       "      <td>2022-06-07 15:58:16</td>\n",
       "      <td>2022-06-13 17:59:19</td>\n",
       "      <td>146</td>\n",
       "      <td>22596</td>\n",
       "      <td>76504</td>\n",
       "      <td>0.295357</td>\n",
       "      <td>45577</td>\n",
       "      <td>317</td>\n",
       "      <td>135159</td>\n",
       "      <td>0.337210</td>\n",
       "      <td>15</td>\n",
       "      <td>with likes</td>\n",
       "      <td>4.983607</td>\n",
       "    </tr>\n",
       "    <tr>\n",
       "      <th>...</th>\n",
       "      <td>...</td>\n",
       "      <td>...</td>\n",
       "      <td>...</td>\n",
       "      <td>...</td>\n",
       "      <td>...</td>\n",
       "      <td>...</td>\n",
       "      <td>...</td>\n",
       "      <td>...</td>\n",
       "      <td>...</td>\n",
       "      <td>...</td>\n",
       "      <td>...</td>\n",
       "      <td>...</td>\n",
       "      <td>...</td>\n",
       "      <td>...</td>\n",
       "    </tr>\n",
       "    <tr>\n",
       "      <th>2869</th>\n",
       "      <td>30</td>\n",
       "      <td>2022-03-28 22:31:07</td>\n",
       "      <td>2022-03-29 00:05:24</td>\n",
       "      <td>2</td>\n",
       "      <td>0</td>\n",
       "      <td>2</td>\n",
       "      <td>0.000000</td>\n",
       "      <td>2</td>\n",
       "      <td>1</td>\n",
       "      <td>1198</td>\n",
       "      <td>0.001669</td>\n",
       "      <td>22</td>\n",
       "      <td>no likes</td>\n",
       "      <td>0.693147</td>\n",
       "    </tr>\n",
       "    <tr>\n",
       "      <th>5163</th>\n",
       "      <td>5002</td>\n",
       "      <td>2022-06-05 19:47:40</td>\n",
       "      <td>2022-06-05 19:47:40</td>\n",
       "      <td>0</td>\n",
       "      <td>0</td>\n",
       "      <td>1</td>\n",
       "      <td>0.000000</td>\n",
       "      <td>1</td>\n",
       "      <td>1</td>\n",
       "      <td>132972</td>\n",
       "      <td>0.000008</td>\n",
       "      <td>19</td>\n",
       "      <td>no likes</td>\n",
       "      <td>-inf</td>\n",
       "    </tr>\n",
       "    <tr>\n",
       "      <th>3101</th>\n",
       "      <td>219</td>\n",
       "      <td>2022-03-30 21:41:22</td>\n",
       "      <td>2022-03-30 21:41:22</td>\n",
       "      <td>0</td>\n",
       "      <td>0</td>\n",
       "      <td>1</td>\n",
       "      <td>0.000000</td>\n",
       "      <td>1</td>\n",
       "      <td>1</td>\n",
       "      <td>5055</td>\n",
       "      <td>0.000198</td>\n",
       "      <td>21</td>\n",
       "      <td>no likes</td>\n",
       "      <td>-inf</td>\n",
       "    </tr>\n",
       "    <tr>\n",
       "      <th>4453</th>\n",
       "      <td>14</td>\n",
       "      <td>2022-03-28 20:43:50</td>\n",
       "      <td>2022-03-28 20:43:50</td>\n",
       "      <td>0</td>\n",
       "      <td>0</td>\n",
       "      <td>1</td>\n",
       "      <td>0.000000</td>\n",
       "      <td>1</td>\n",
       "      <td>1</td>\n",
       "      <td>1198</td>\n",
       "      <td>0.000835</td>\n",
       "      <td>20</td>\n",
       "      <td>no likes</td>\n",
       "      <td>-inf</td>\n",
       "    </tr>\n",
       "    <tr>\n",
       "      <th>405</th>\n",
       "      <td>52</td>\n",
       "      <td>2022-03-28 17:44:08</td>\n",
       "      <td>2022-03-28 17:44:08</td>\n",
       "      <td>0</td>\n",
       "      <td>0</td>\n",
       "      <td>1</td>\n",
       "      <td>0.000000</td>\n",
       "      <td>1</td>\n",
       "      <td>1</td>\n",
       "      <td>1198</td>\n",
       "      <td>0.000835</td>\n",
       "      <td>17</td>\n",
       "      <td>no likes</td>\n",
       "      <td>-inf</td>\n",
       "    </tr>\n",
       "  </tbody>\n",
       "</table>\n",
       "<p>5453 rows × 14 columns</p>\n",
       "</div>"
      ],
      "text/plain": [
       "      post_id          begin_post         finish_post  day_life  likes  \\\n",
       "1001     4866 2022-06-03 16:33:24 2022-06-10 13:59:50       165  31714   \n",
       "2124     5127 2022-06-07 17:18:44 2022-06-14 13:54:49       164  29637   \n",
       "1245     3192 2022-05-08 19:28:44 2022-05-15 19:57:50       168  26507   \n",
       "5399     3795 2022-05-18 13:03:23 2022-05-24 11:59:32       142  22224   \n",
       "4459     5165 2022-06-07 15:58:16 2022-06-13 17:59:19       146  22596   \n",
       "...       ...                 ...                 ...       ...    ...   \n",
       "2869       30 2022-03-28 22:31:07 2022-03-29 00:05:24         2      0   \n",
       "5163     5002 2022-06-05 19:47:40 2022-06-05 19:47:40         0      0   \n",
       "3101      219 2022-03-30 21:41:22 2022-03-30 21:41:22         0      0   \n",
       "4453       14 2022-03-28 20:43:50 2022-03-28 20:43:50         0      0   \n",
       "405        52 2022-03-28 17:44:08 2022-03-28 17:44:08         0      0   \n",
       "\n",
       "       views       ctr  reach  speedlike  number_users  percentage_reach  \\\n",
       "1001  104338  0.303954  55331        401        131331          0.421310   \n",
       "2124   97417  0.304228  53550        406        135159          0.396200   \n",
       "1245   89909  0.294820  44756        373         83971          0.532994   \n",
       "5399   77235  0.287745  42815        277        104208          0.410861   \n",
       "4459   76504  0.295357  45577        317        135159          0.337210   \n",
       "...      ...       ...    ...        ...           ...               ...   \n",
       "2869       2  0.000000      2          1          1198          0.001669   \n",
       "5163       1  0.000000      1          1        132972          0.000008   \n",
       "3101       1  0.000000      1          1          5055          0.000198   \n",
       "4453       1  0.000000      1          1          1198          0.000835   \n",
       "405        1  0.000000      1          1          1198          0.000835   \n",
       "\n",
       "      hour_begin_post   type_post  day_life_log  \n",
       "1001               16  with likes      5.105945  \n",
       "2124               17  with likes      5.099866  \n",
       "1245               19  with likes      5.123964  \n",
       "5399               13  with likes      4.955827  \n",
       "4459               15  with likes      4.983607  \n",
       "...               ...         ...           ...  \n",
       "2869               22    no likes      0.693147  \n",
       "5163               19    no likes          -inf  \n",
       "3101               21    no likes          -inf  \n",
       "4453               20    no likes          -inf  \n",
       "405                17    no likes          -inf  \n",
       "\n",
       "[5453 rows x 14 columns]"
      ]
     },
     "execution_count": 63,
     "metadata": {},
     "output_type": "execute_result"
    }
   ],
   "source": [
    "post.sort_values('views', ascending =False)"
   ]
  },
  {
   "cell_type": "code",
   "execution_count": 64,
   "id": "8f22e570-ab48-4887-b3bd-56f00d140af9",
   "metadata": {},
   "outputs": [
    {
     "data": {
      "text/html": [
       "<div>\n",
       "<style scoped>\n",
       "    .dataframe tbody tr th:only-of-type {\n",
       "        vertical-align: middle;\n",
       "    }\n",
       "\n",
       "    .dataframe tbody tr th {\n",
       "        vertical-align: top;\n",
       "    }\n",
       "\n",
       "    .dataframe thead th {\n",
       "        text-align: right;\n",
       "    }\n",
       "</style>\n",
       "<table border=\"1\" class=\"dataframe\">\n",
       "  <thead>\n",
       "    <tr style=\"text-align: right;\">\n",
       "      <th></th>\n",
       "      <th>post_id</th>\n",
       "      <th>day_life</th>\n",
       "      <th>likes</th>\n",
       "      <th>views</th>\n",
       "      <th>ctr</th>\n",
       "      <th>reach</th>\n",
       "      <th>speedlike</th>\n",
       "      <th>number_users</th>\n",
       "      <th>percentage_reach</th>\n",
       "      <th>hour_begin_post</th>\n",
       "      <th>day_life_log</th>\n",
       "    </tr>\n",
       "  </thead>\n",
       "  <tbody>\n",
       "    <tr>\n",
       "      <th>count</th>\n",
       "      <td>5453.000000</td>\n",
       "      <td>5453.000000</td>\n",
       "      <td>5453.000000</td>\n",
       "      <td>5453.000000</td>\n",
       "      <td>5453.000000</td>\n",
       "      <td>5453.000000</td>\n",
       "      <td>5453.000000</td>\n",
       "      <td>5453.000000</td>\n",
       "      <td>5453.000000</td>\n",
       "      <td>5453.000000</td>\n",
       "      <td>5453.000000</td>\n",
       "    </tr>\n",
       "    <tr>\n",
       "      <th>mean</th>\n",
       "      <td>2849.854575</td>\n",
       "      <td>38.634696</td>\n",
       "      <td>1476.580781</td>\n",
       "      <td>7061.278929</td>\n",
       "      <td>0.134725</td>\n",
       "      <td>5401.603521</td>\n",
       "      <td>58.529800</td>\n",
       "      <td>75196.121034</td>\n",
       "      <td>0.112923</td>\n",
       "      <td>18.231065</td>\n",
       "      <td>-inf</td>\n",
       "    </tr>\n",
       "    <tr>\n",
       "      <th>std</th>\n",
       "      <td>1638.310662</td>\n",
       "      <td>32.162470</td>\n",
       "      <td>2873.940847</td>\n",
       "      <td>11083.526522</td>\n",
       "      <td>0.059265</td>\n",
       "      <td>7372.542763</td>\n",
       "      <td>56.566627</td>\n",
       "      <td>43930.429227</td>\n",
       "      <td>0.238671</td>\n",
       "      <td>4.546428</td>\n",
       "      <td>NaN</td>\n",
       "    </tr>\n",
       "    <tr>\n",
       "      <th>min</th>\n",
       "      <td>1.000000</td>\n",
       "      <td>0.000000</td>\n",
       "      <td>0.000000</td>\n",
       "      <td>1.000000</td>\n",
       "      <td>0.000000</td>\n",
       "      <td>1.000000</td>\n",
       "      <td>1.000000</td>\n",
       "      <td>1198.000000</td>\n",
       "      <td>0.000008</td>\n",
       "      <td>0.000000</td>\n",
       "      <td>-inf</td>\n",
       "    </tr>\n",
       "    <tr>\n",
       "      <th>25%</th>\n",
       "      <td>1431.000000</td>\n",
       "      <td>13.000000</td>\n",
       "      <td>46.000000</td>\n",
       "      <td>511.000000</td>\n",
       "      <td>0.093284</td>\n",
       "      <td>503.000000</td>\n",
       "      <td>18.000000</td>\n",
       "      <td>37142.000000</td>\n",
       "      <td>0.008772</td>\n",
       "      <td>17.000000</td>\n",
       "      <td>2.564949</td>\n",
       "    </tr>\n",
       "    <tr>\n",
       "      <th>50%</th>\n",
       "      <td>2850.000000</td>\n",
       "      <td>30.000000</td>\n",
       "      <td>303.000000</td>\n",
       "      <td>2462.000000</td>\n",
       "      <td>0.125000</td>\n",
       "      <td>2299.000000</td>\n",
       "      <td>40.000000</td>\n",
       "      <td>73730.000000</td>\n",
       "      <td>0.040264</td>\n",
       "      <td>19.000000</td>\n",
       "      <td>3.401197</td>\n",
       "    </tr>\n",
       "    <tr>\n",
       "      <th>75%</th>\n",
       "      <td>4273.000000</td>\n",
       "      <td>57.000000</td>\n",
       "      <td>1457.000000</td>\n",
       "      <td>8648.000000</td>\n",
       "      <td>0.173977</td>\n",
       "      <td>7267.000000</td>\n",
       "      <td>82.000000</td>\n",
       "      <td>117640.000000</td>\n",
       "      <td>0.133315</td>\n",
       "      <td>21.000000</td>\n",
       "      <td>4.043051</td>\n",
       "    </tr>\n",
       "    <tr>\n",
       "      <th>max</th>\n",
       "      <td>5718.000000</td>\n",
       "      <td>170.000000</td>\n",
       "      <td>31714.000000</td>\n",
       "      <td>104338.000000</td>\n",
       "      <td>0.375000</td>\n",
       "      <td>55331.000000</td>\n",
       "      <td>406.000000</td>\n",
       "      <td>142041.000000</td>\n",
       "      <td>5.521703</td>\n",
       "      <td>23.000000</td>\n",
       "      <td>5.135798</td>\n",
       "    </tr>\n",
       "  </tbody>\n",
       "</table>\n",
       "</div>"
      ],
      "text/plain": [
       "           post_id     day_life         likes          views          ctr  \\\n",
       "count  5453.000000  5453.000000   5453.000000    5453.000000  5453.000000   \n",
       "mean   2849.854575    38.634696   1476.580781    7061.278929     0.134725   \n",
       "std    1638.310662    32.162470   2873.940847   11083.526522     0.059265   \n",
       "min       1.000000     0.000000      0.000000       1.000000     0.000000   \n",
       "25%    1431.000000    13.000000     46.000000     511.000000     0.093284   \n",
       "50%    2850.000000    30.000000    303.000000    2462.000000     0.125000   \n",
       "75%    4273.000000    57.000000   1457.000000    8648.000000     0.173977   \n",
       "max    5718.000000   170.000000  31714.000000  104338.000000     0.375000   \n",
       "\n",
       "              reach    speedlike   number_users  percentage_reach  \\\n",
       "count   5453.000000  5453.000000    5453.000000       5453.000000   \n",
       "mean    5401.603521    58.529800   75196.121034          0.112923   \n",
       "std     7372.542763    56.566627   43930.429227          0.238671   \n",
       "min        1.000000     1.000000    1198.000000          0.000008   \n",
       "25%      503.000000    18.000000   37142.000000          0.008772   \n",
       "50%     2299.000000    40.000000   73730.000000          0.040264   \n",
       "75%     7267.000000    82.000000  117640.000000          0.133315   \n",
       "max    55331.000000   406.000000  142041.000000          5.521703   \n",
       "\n",
       "       hour_begin_post  day_life_log  \n",
       "count      5453.000000   5453.000000  \n",
       "mean         18.231065          -inf  \n",
       "std           4.546428           NaN  \n",
       "min           0.000000          -inf  \n",
       "25%          17.000000      2.564949  \n",
       "50%          19.000000      3.401197  \n",
       "75%          21.000000      4.043051  \n",
       "max          23.000000      5.135798  "
      ]
     },
     "execution_count": 64,
     "metadata": {},
     "output_type": "execute_result"
    }
   ],
   "source": [
    "post.describe()"
   ]
  },
  {
   "cell_type": "code",
   "execution_count": 65,
   "id": "01d2c86d-9047-41cb-9b7e-4917018b73d7",
   "metadata": {},
   "outputs": [
    {
     "data": {
      "text/plain": [
       "303.0"
      ]
     },
     "execution_count": 65,
     "metadata": {},
     "output_type": "execute_result"
    }
   ],
   "source": [
    "post.likes.median()"
   ]
  },
  {
   "cell_type": "code",
   "execution_count": 66,
   "id": "8aeefe31-39f2-44bd-b553-9368e25d0cb8",
   "metadata": {},
   "outputs": [
    {
     "name": "stderr",
     "output_type": "stream",
     "text": [
      "/nfs/env/lib/python3.8/site-packages/statsmodels/graphics/gofplots.py:993: UserWarning: marker is redundantly defined by the 'marker' keyword argument and the fmt string \"bo\" (-> marker='o'). The keyword argument will take precedence.\n",
      "  ax.plot(x, y, fmt, **plot_style)\n"
     ]
    },
    {
     "data": {
      "image/png": "[encoded data removed]",
      "text/plain": [
       "<Figure size 432x288 with 1 Axes>"
      ]
     },
     "metadata": {},
     "output_type": "display_data"
    }
   ],
   "source": [
    "import statsmodels.api as sm\n",
    "import numpy as np\n",
    "import matplotlib.pyplot as plt\n",
    "from statsmodels.graphics.gofplots import qqplot_2samples\n",
    "x = post.likes\n",
    "y = post.views\n",
    "pp_x = sm.ProbPlot(x)\n",
    "pp_y = sm.ProbPlot(y)\n",
    "qqplot_2samples(pp_x, pp_y,line=\"45\")\n",
    "plt.show()"
   ]
  },
  {
   "cell_type": "code",
   "execution_count": 67,
   "id": "ab0501ae-7604-478e-9d71-1e3814a063d2",
   "metadata": {},
   "outputs": [
    {
     "ename": "TypeError",
     "evalue": "unsupported operand type(s) for -: 'int' and 'builtin_function_or_method'",
     "output_type": "error",
     "traceback": [
      "\u001b[0;31m---------------------------------------------------------------------------\u001b[0m",
      "\u001b[0;31mTypeError\u001b[0m                                 Traceback (most recent call last)",
      "\u001b[0;32m/tmp/ipykernel_229/1582058877.py\u001b[0m in \u001b[0;36m<module>\u001b[0;34m\u001b[0m\n\u001b[0;32m----> 1\u001b[0;31m \u001b[0my\u001b[0m \u001b[0;34m=\u001b[0m \u001b[0;34m(\u001b[0m\u001b[0mx\u001b[0m \u001b[0;34m-\u001b[0m \u001b[0mmin\u001b[0m\u001b[0;34m)\u001b[0m \u001b[0;34m/\u001b[0m \u001b[0;34m(\u001b[0m\u001b[0mmax\u001b[0m \u001b[0;34m-\u001b[0m \u001b[0mmin\u001b[0m\u001b[0;34m)\u001b[0m\u001b[0;34m\u001b[0m\u001b[0;34m\u001b[0m\u001b[0m\n\u001b[0m",
      "\u001b[0;32m/nfs/env/lib/python3.8/site-packages/pandas/core/ops/common.py\u001b[0m in \u001b[0;36mnew_method\u001b[0;34m(self, other)\u001b[0m\n\u001b[1;32m     67\u001b[0m         \u001b[0mother\u001b[0m \u001b[0;34m=\u001b[0m \u001b[0mitem_from_zerodim\u001b[0m\u001b[0;34m(\u001b[0m\u001b[0mother\u001b[0m\u001b[0;34m)\u001b[0m\u001b[0;34m\u001b[0m\u001b[0;34m\u001b[0m\u001b[0m\n\u001b[1;32m     68\u001b[0m \u001b[0;34m\u001b[0m\u001b[0m\n\u001b[0;32m---> 69\u001b[0;31m         \u001b[0;32mreturn\u001b[0m \u001b[0mmethod\u001b[0m\u001b[0;34m(\u001b[0m\u001b[0mself\u001b[0m\u001b[0;34m,\u001b[0m \u001b[0mother\u001b[0m\u001b[0;34m)\u001b[0m\u001b[0;34m\u001b[0m\u001b[0;34m\u001b[0m\u001b[0m\n\u001b[0m\u001b[1;32m     70\u001b[0m \u001b[0;34m\u001b[0m\u001b[0m\n\u001b[1;32m     71\u001b[0m     \u001b[0;32mreturn\u001b[0m \u001b[0mnew_method\u001b[0m\u001b[0;34m\u001b[0m\u001b[0;34m\u001b[0m\u001b[0m\n",
      "\u001b[0;32m/nfs/env/lib/python3.8/site-packages/pandas/core/arraylike.py\u001b[0m in \u001b[0;36m__sub__\u001b[0;34m(self, other)\u001b[0m\n\u001b[1;32m     98\u001b[0m     \u001b[0;34m@\u001b[0m\u001b[0munpack_zerodim_and_defer\u001b[0m\u001b[0;34m(\u001b[0m\u001b[0;34m\"__sub__\"\u001b[0m\u001b[0;34m)\u001b[0m\u001b[0;34m\u001b[0m\u001b[0;34m\u001b[0m\u001b[0m\n\u001b[1;32m     99\u001b[0m     \u001b[0;32mdef\u001b[0m \u001b[0m__sub__\u001b[0m\u001b[0;34m(\u001b[0m\u001b[0mself\u001b[0m\u001b[0;34m,\u001b[0m \u001b[0mother\u001b[0m\u001b[0;34m)\u001b[0m\u001b[0;34m:\u001b[0m\u001b[0;34m\u001b[0m\u001b[0;34m\u001b[0m\u001b[0m\n\u001b[0;32m--> 100\u001b[0;31m         \u001b[0;32mreturn\u001b[0m \u001b[0mself\u001b[0m\u001b[0;34m.\u001b[0m\u001b[0m_arith_method\u001b[0m\u001b[0;34m(\u001b[0m\u001b[0mother\u001b[0m\u001b[0;34m,\u001b[0m \u001b[0moperator\u001b[0m\u001b[0;34m.\u001b[0m\u001b[0msub\u001b[0m\u001b[0;34m)\u001b[0m\u001b[0;34m\u001b[0m\u001b[0;34m\u001b[0m\u001b[0m\n\u001b[0m\u001b[1;32m    101\u001b[0m \u001b[0;34m\u001b[0m\u001b[0m\n\u001b[1;32m    102\u001b[0m     \u001b[0;34m@\u001b[0m\u001b[0munpack_zerodim_and_defer\u001b[0m\u001b[0;34m(\u001b[0m\u001b[0;34m\"__rsub__\"\u001b[0m\u001b[0;34m)\u001b[0m\u001b[0;34m\u001b[0m\u001b[0;34m\u001b[0m\u001b[0m\n",
      "\u001b[0;32m/nfs/env/lib/python3.8/site-packages/pandas/core/series.py\u001b[0m in \u001b[0;36m_arith_method\u001b[0;34m(self, other, op)\u001b[0m\n\u001b[1;32m   5524\u001b[0m \u001b[0;34m\u001b[0m\u001b[0m\n\u001b[1;32m   5525\u001b[0m         \u001b[0;32mwith\u001b[0m \u001b[0mnp\u001b[0m\u001b[0;34m.\u001b[0m\u001b[0merrstate\u001b[0m\u001b[0;34m(\u001b[0m\u001b[0mall\u001b[0m\u001b[0;34m=\u001b[0m\u001b[0;34m\"ignore\"\u001b[0m\u001b[0;34m)\u001b[0m\u001b[0;34m:\u001b[0m\u001b[0;34m\u001b[0m\u001b[0;34m\u001b[0m\u001b[0m\n\u001b[0;32m-> 5526\u001b[0;31m             \u001b[0mresult\u001b[0m \u001b[0;34m=\u001b[0m \u001b[0mops\u001b[0m\u001b[0;34m.\u001b[0m\u001b[0marithmetic_op\u001b[0m\u001b[0;34m(\u001b[0m\u001b[0mlvalues\u001b[0m\u001b[0;34m,\u001b[0m \u001b[0mrvalues\u001b[0m\u001b[0;34m,\u001b[0m \u001b[0mop\u001b[0m\u001b[0;34m)\u001b[0m\u001b[0;34m\u001b[0m\u001b[0;34m\u001b[0m\u001b[0m\n\u001b[0m\u001b[1;32m   5527\u001b[0m \u001b[0;34m\u001b[0m\u001b[0m\n\u001b[1;32m   5528\u001b[0m         \u001b[0;32mreturn\u001b[0m \u001b[0mself\u001b[0m\u001b[0;34m.\u001b[0m\u001b[0m_construct_result\u001b[0m\u001b[0;34m(\u001b[0m\u001b[0mresult\u001b[0m\u001b[0;34m,\u001b[0m \u001b[0mname\u001b[0m\u001b[0;34m=\u001b[0m\u001b[0mres_name\u001b[0m\u001b[0;34m)\u001b[0m\u001b[0;34m\u001b[0m\u001b[0;34m\u001b[0m\u001b[0m\n",
      "\u001b[0;32m/nfs/env/lib/python3.8/site-packages/pandas/core/ops/array_ops.py\u001b[0m in \u001b[0;36marithmetic_op\u001b[0;34m(left, right, op)\u001b[0m\n\u001b[1;32m    222\u001b[0m         \u001b[0m_bool_arith_check\u001b[0m\u001b[0;34m(\u001b[0m\u001b[0mop\u001b[0m\u001b[0;34m,\u001b[0m \u001b[0mleft\u001b[0m\u001b[0;34m,\u001b[0m \u001b[0mright\u001b[0m\u001b[0;34m)\u001b[0m\u001b[0;34m\u001b[0m\u001b[0;34m\u001b[0m\u001b[0m\n\u001b[1;32m    223\u001b[0m \u001b[0;34m\u001b[0m\u001b[0m\n\u001b[0;32m--> 224\u001b[0;31m         \u001b[0mres_values\u001b[0m \u001b[0;34m=\u001b[0m \u001b[0m_na_arithmetic_op\u001b[0m\u001b[0;34m(\u001b[0m\u001b[0mleft\u001b[0m\u001b[0;34m,\u001b[0m \u001b[0mright\u001b[0m\u001b[0;34m,\u001b[0m \u001b[0mop\u001b[0m\u001b[0;34m)\u001b[0m\u001b[0;34m\u001b[0m\u001b[0;34m\u001b[0m\u001b[0m\n\u001b[0m\u001b[1;32m    225\u001b[0m \u001b[0;34m\u001b[0m\u001b[0m\n\u001b[1;32m    226\u001b[0m     \u001b[0;32mreturn\u001b[0m \u001b[0mres_values\u001b[0m\u001b[0;34m\u001b[0m\u001b[0;34m\u001b[0m\u001b[0m\n",
      "\u001b[0;32m/nfs/env/lib/python3.8/site-packages/pandas/core/ops/array_ops.py\u001b[0m in \u001b[0;36m_na_arithmetic_op\u001b[0;34m(left, right, op, is_cmp)\u001b[0m\n\u001b[1;32m    164\u001b[0m \u001b[0;34m\u001b[0m\u001b[0m\n\u001b[1;32m    165\u001b[0m     \u001b[0;32mtry\u001b[0m\u001b[0;34m:\u001b[0m\u001b[0;34m\u001b[0m\u001b[0;34m\u001b[0m\u001b[0m\n\u001b[0;32m--> 166\u001b[0;31m         \u001b[0mresult\u001b[0m \u001b[0;34m=\u001b[0m \u001b[0mfunc\u001b[0m\u001b[0;34m(\u001b[0m\u001b[0mleft\u001b[0m\u001b[0;34m,\u001b[0m \u001b[0mright\u001b[0m\u001b[0;34m)\u001b[0m\u001b[0;34m\u001b[0m\u001b[0;34m\u001b[0m\u001b[0m\n\u001b[0m\u001b[1;32m    167\u001b[0m     \u001b[0;32mexcept\u001b[0m \u001b[0mTypeError\u001b[0m\u001b[0;34m:\u001b[0m\u001b[0;34m\u001b[0m\u001b[0;34m\u001b[0m\u001b[0m\n\u001b[1;32m    168\u001b[0m         \u001b[0;32mif\u001b[0m \u001b[0mis_object_dtype\u001b[0m\u001b[0;34m(\u001b[0m\u001b[0mleft\u001b[0m\u001b[0;34m)\u001b[0m \u001b[0;32mor\u001b[0m \u001b[0mis_object_dtype\u001b[0m\u001b[0;34m(\u001b[0m\u001b[0mright\u001b[0m\u001b[0;34m)\u001b[0m \u001b[0;32mand\u001b[0m \u001b[0;32mnot\u001b[0m \u001b[0mis_cmp\u001b[0m\u001b[0;34m:\u001b[0m\u001b[0;34m\u001b[0m\u001b[0;34m\u001b[0m\u001b[0m\n",
      "\u001b[0;32m/nfs/env/lib/python3.8/site-packages/pandas/core/computation/expressions.py\u001b[0m in \u001b[0;36mevaluate\u001b[0;34m(op, a, b, use_numexpr)\u001b[0m\n\u001b[1;32m    237\u001b[0m         \u001b[0;32mif\u001b[0m \u001b[0muse_numexpr\u001b[0m\u001b[0;34m:\u001b[0m\u001b[0;34m\u001b[0m\u001b[0;34m\u001b[0m\u001b[0m\n\u001b[1;32m    238\u001b[0m             \u001b[0;31m# error: \"None\" not callable\u001b[0m\u001b[0;34m\u001b[0m\u001b[0;34m\u001b[0m\u001b[0;34m\u001b[0m\u001b[0m\n\u001b[0;32m--> 239\u001b[0;31m             \u001b[0;32mreturn\u001b[0m \u001b[0m_evaluate\u001b[0m\u001b[0;34m(\u001b[0m\u001b[0mop\u001b[0m\u001b[0;34m,\u001b[0m \u001b[0mop_str\u001b[0m\u001b[0;34m,\u001b[0m \u001b[0ma\u001b[0m\u001b[0;34m,\u001b[0m \u001b[0mb\u001b[0m\u001b[0;34m)\u001b[0m  \u001b[0;31m# type: ignore[misc]\u001b[0m\u001b[0;34m\u001b[0m\u001b[0;34m\u001b[0m\u001b[0m\n\u001b[0m\u001b[1;32m    240\u001b[0m     \u001b[0;32mreturn\u001b[0m \u001b[0m_evaluate_standard\u001b[0m\u001b[0;34m(\u001b[0m\u001b[0mop\u001b[0m\u001b[0;34m,\u001b[0m \u001b[0mop_str\u001b[0m\u001b[0;34m,\u001b[0m \u001b[0ma\u001b[0m\u001b[0;34m,\u001b[0m \u001b[0mb\u001b[0m\u001b[0;34m)\u001b[0m\u001b[0;34m\u001b[0m\u001b[0;34m\u001b[0m\u001b[0m\n\u001b[1;32m    241\u001b[0m \u001b[0;34m\u001b[0m\u001b[0m\n",
      "\u001b[0;32m/nfs/env/lib/python3.8/site-packages/pandas/core/computation/expressions.py\u001b[0m in \u001b[0;36m_evaluate_standard\u001b[0;34m(op, op_str, a, b)\u001b[0m\n\u001b[1;32m     67\u001b[0m     \u001b[0;32mif\u001b[0m \u001b[0m_TEST_MODE\u001b[0m\u001b[0;34m:\u001b[0m\u001b[0;34m\u001b[0m\u001b[0;34m\u001b[0m\u001b[0m\n\u001b[1;32m     68\u001b[0m         \u001b[0m_store_test_result\u001b[0m\u001b[0;34m(\u001b[0m\u001b[0;32mFalse\u001b[0m\u001b[0;34m)\u001b[0m\u001b[0;34m\u001b[0m\u001b[0;34m\u001b[0m\u001b[0m\n\u001b[0;32m---> 69\u001b[0;31m     \u001b[0;32mreturn\u001b[0m \u001b[0mop\u001b[0m\u001b[0;34m(\u001b[0m\u001b[0ma\u001b[0m\u001b[0;34m,\u001b[0m \u001b[0mb\u001b[0m\u001b[0;34m)\u001b[0m\u001b[0;34m\u001b[0m\u001b[0;34m\u001b[0m\u001b[0m\n\u001b[0m\u001b[1;32m     70\u001b[0m \u001b[0;34m\u001b[0m\u001b[0m\n\u001b[1;32m     71\u001b[0m \u001b[0;34m\u001b[0m\u001b[0m\n",
      "\u001b[0;31mTypeError\u001b[0m: unsupported operand type(s) for -: 'int' and 'builtin_function_or_method'"
     ]
    }
   ],
   "source": [
    "y = (x - min) / (max - min)"
   ]
  },
  {
   "cell_type": "code",
   "execution_count": 68,
   "id": "b3e68afc-880e-4800-8148-74fef7c214b4",
   "metadata": {},
   "outputs": [],
   "source": [
    "view_max = post.views.max()\n",
    "view_min = post.views.min()\n",
    "\n",
    "like_max = post.likes.max()\n",
    "like_min = post.likes.min()"
   ]
  },
  {
   "cell_type": "code",
   "execution_count": 69,
   "id": "cceccb65-6209-4559-9ecc-449d6a4b79a7",
   "metadata": {},
   "outputs": [],
   "source": [
    "post['views_n'] = post.views.apply(lambda x: (x - view_min)/(view_max - view_min))\n",
    "post['likes_n'] = post.likes.apply(lambda x: (x - like_min)/(like_max - like_min))"
   ]
  },
  {
   "cell_type": "code",
   "execution_count": 70,
   "id": "e6b89bdc-7aba-4d1c-bc5b-053cf20ca65f",
   "metadata": {},
   "outputs": [
    {
     "name": "stderr",
     "output_type": "stream",
     "text": [
      "/nfs/env/lib/python3.8/site-packages/statsmodels/graphics/gofplots.py:993: UserWarning: marker is redundantly defined by the 'marker' keyword argument and the fmt string \"bo\" (-> marker='o'). The keyword argument will take precedence.\n",
      "  ax.plot(x, y, fmt, **plot_style)\n"
     ]
    },
    {
     "data": {
      "image/png": "[encoded data removed]",
      "text/plain": [
       "<Figure size 432x288 with 1 Axes>"
      ]
     },
     "metadata": {},
     "output_type": "display_data"
    }
   ],
   "source": [
    "x = post['views_n']\n",
    "y =post['likes_n']\n",
    "pp_x = sm.ProbPlot(x)\n",
    "pp_y = sm.ProbPlot(y)\n",
    "qqplot_2samples(pp_x, pp_y,line=\"45\")\n",
    "plt.show()"
   ]
  },
  {
   "cell_type": "code",
   "execution_count": 73,
   "id": "d833e074-2eab-49e4-b8d8-2cf76bd9b3b9",
   "metadata": {},
   "outputs": [
    {
     "data": {
      "text/plain": [
       "(array([3.058e+03, 8.030e+02, 4.490e+02, 2.670e+02, 2.060e+02, 1.580e+02,\n",
       "        1.040e+02, 8.000e+01, 6.500e+01, 5.400e+01, 3.500e+01, 4.500e+01,\n",
       "        2.500e+01, 2.800e+01, 2.000e+01, 1.600e+01, 8.000e+00, 8.000e+00,\n",
       "        4.000e+00, 7.000e+00, 3.000e+00, 6.000e+00, 1.000e+00, 0.000e+00,\n",
       "        0.000e+00, 1.000e+00, 0.000e+00, 0.000e+00, 1.000e+00, 1.000e+00]),\n",
       " array([0.        , 0.03333333, 0.06666667, 0.1       , 0.13333333,\n",
       "        0.16666667, 0.2       , 0.23333333, 0.26666667, 0.3       ,\n",
       "        0.33333333, 0.36666667, 0.4       , 0.43333333, 0.46666667,\n",
       "        0.5       , 0.53333333, 0.56666667, 0.6       , 0.63333333,\n",
       "        0.66666667, 0.7       , 0.73333333, 0.76666667, 0.8       ,\n",
       "        0.83333333, 0.86666667, 0.9       , 0.93333333, 0.96666667,\n",
       "        1.        ]),\n",
       " <BarContainer object of 30 artists>)"
      ]
     },
     "execution_count": 73,
     "metadata": {},
     "output_type": "execute_result"
    },
    {
     "data": {
      "image/png": "[encoded data removed]",
      "text/plain": [
       "<Figure size 432x288 with 1 Axes>"
      ]
     },
     "metadata": {},
     "output_type": "display_data"
    }
   ],
   "source": [
    "plt.hist(post['views_n'],bins =30)"
   ]
  },
  {
   "cell_type": "code",
   "execution_count": 72,
   "id": "1ca5087f-cbb6-42c8-a855-0d1cf2e1e936",
   "metadata": {},
   "outputs": [
    {
     "data": {
      "text/plain": [
       "(array([3.811e+03, 5.700e+02, 3.060e+02, 2.030e+02, 1.350e+02, 9.100e+01,\n",
       "        7.100e+01, 4.800e+01, 3.400e+01, 4.800e+01, 3.100e+01, 2.600e+01,\n",
       "        2.200e+01, 1.400e+01, 9.000e+00, 8.000e+00, 2.000e+00, 8.000e+00,\n",
       "        5.000e+00, 2.000e+00, 4.000e+00, 2.000e+00, 0.000e+00, 0.000e+00,\n",
       "        0.000e+00, 1.000e+00, 0.000e+00, 0.000e+00, 1.000e+00, 1.000e+00]),\n",
       " array([0.        , 0.03333333, 0.06666667, 0.1       , 0.13333333,\n",
       "        0.16666667, 0.2       , 0.23333333, 0.26666667, 0.3       ,\n",
       "        0.33333333, 0.36666667, 0.4       , 0.43333333, 0.46666667,\n",
       "        0.5       , 0.53333333, 0.56666667, 0.6       , 0.63333333,\n",
       "        0.66666667, 0.7       , 0.73333333, 0.76666667, 0.8       ,\n",
       "        0.83333333, 0.86666667, 0.9       , 0.93333333, 0.96666667,\n",
       "        1.        ]),\n",
       " <BarContainer object of 30 artists>)"
      ]
     },
     "execution_count": 72,
     "metadata": {},
     "output_type": "execute_result"
    },
    {
     "data": {
      "image/png": "[encoded data removed]",
      "text/plain": [
       "<Figure size 432x288 with 1 Axes>"
      ]
     },
     "metadata": {},
     "output_type": "display_data"
    }
   ],
   "source": [
    "plt.hist(post['likes_n'],bins =30)"
   ]
  },
  {
   "cell_type": "code",
   "execution_count": null,
   "id": "00220bb7-f922-43d2-8069-cfa50cdf4724",
   "metadata": {},
   "outputs": [],
   "source": []
  }
 ],
 "metadata": {
  "kernelspec": {
   "display_name": "Python 3 (ipykernel)",
   "language": "python",
   "name": "python3"
  },
  "language_info": {
   "codemirror_mode": {
    "name": "ipython",
    "version": 3
   },
   "file_extension": ".py",
   "mimetype": "text/x-python",
   "name": "python",
   "nbconvert_exporter": "python",
   "pygments_lexer": "ipython3",
   "version": "3.8.10"
  }
 },
 "nbformat": 4,
 "nbformat_minor": 5
}
