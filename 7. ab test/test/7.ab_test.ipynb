{
 "cells": [
  {
   "cell_type": "code",
   "execution_count": 79,
   "id": "4f266325-08d1-4aec-b629-7c582b5be9e1",
   "metadata": {},
   "outputs": [],
   "source": [
    "import pandas as pd\n",
    "from read_db.CH import Getch\n",
    "import pandahouse\n",
    "from datetime import date,timedelta, datetime\n",
    "import telegram\n",
    "import seaborn as sns\n",
    "import matplotlib.pyplot as plt\n",
    "import io\n",
    "sns.set(style ='ticks')\n",
    "import hashlib\n",
    "from scipy import stats\n",
    "import numpy as np\n",
    "#import swifter"
   ]
  },
  {
   "cell_type": "code",
   "execution_count": 22,
   "id": "7b911b2e-8ddb-43dd-88a3-d7dc29167a6b",
   "metadata": {
    "scrolled": true,
    "tags": []
   },
   "outputs": [],
   "source": [
    "def ab_split(id, salt ='exp_feed_1',n_groups=5):\n",
    "    test_id = str(id) + '_' + str(salt)\n",
    "    test_id_digest = hashlib.md5(test_id.encode('ascii')).hexdigest()\n",
    "    test_id_final_int = int(test_id_digest,16)\n",
    "    return test_id_final_int % n_groups"
   ]
  },
  {
   "cell_type": "code",
   "execution_count": 23,
   "id": "958e69fb-a302-41c6-bbcf-95a82bda980c",
   "metadata": {},
   "outputs": [
    {
     "data": {
      "text/html": [
       "<div>\n",
       "<style scoped>\n",
       "    .dataframe tbody tr th:only-of-type {\n",
       "        vertical-align: middle;\n",
       "    }\n",
       "\n",
       "    .dataframe tbody tr th {\n",
       "        vertical-align: top;\n",
       "    }\n",
       "\n",
       "    .dataframe thead th {\n",
       "        text-align: right;\n",
       "    }\n",
       "</style>\n",
       "<table border=\"1\" class=\"dataframe\">\n",
       "  <thead>\n",
       "    <tr style=\"text-align: right;\">\n",
       "      <th></th>\n",
       "      <th>user_id</th>\n",
       "    </tr>\n",
       "  </thead>\n",
       "  <tbody>\n",
       "    <tr>\n",
       "      <th>0</th>\n",
       "      <td>33099</td>\n",
       "    </tr>\n",
       "    <tr>\n",
       "      <th>1</th>\n",
       "      <td>39117</td>\n",
       "    </tr>\n",
       "  </tbody>\n",
       "</table>\n",
       "</div>"
      ],
      "text/plain": [
       "   user_id\n",
       "0    33099\n",
       "1    39117"
      ]
     },
     "execution_count": 23,
     "metadata": {},
     "output_type": "execute_result"
    }
   ],
   "source": [
    "user_data = Getch(\n",
    "    '''\n",
    "    select distinct user_id \n",
    "    --,source\n",
    "    --,gender\n",
    "    --,age\n",
    "    --,country\n",
    "    --,city\n",
    "    --,os\n",
    "    --,exp_group\n",
    "    from simulator_20220520.feed_actions \n",
    "    '''\n",
    "    ).df\n",
    "user_data.head(2)"
   ]
  },
  {
   "cell_type": "code",
   "execution_count": 24,
   "id": "f6bea834-a173-4187-8053-e7323d3a14ab",
   "metadata": {},
   "outputs": [
    {
     "data": {
      "text/plain": [
       "0         2\n",
       "1         4\n",
       "2         2\n",
       "3         2\n",
       "4         1\n",
       "         ..\n",
       "127157    4\n",
       "127158    4\n",
       "127159    3\n",
       "127160    0\n",
       "127161    3\n",
       "Name: user_id, Length: 127162, dtype: int64"
      ]
     },
     "execution_count": 24,
     "metadata": {},
     "output_type": "execute_result"
    }
   ],
   "source": [
    "user_data.user_id.apply(ab_split)"
   ]
  },
  {
   "cell_type": "code",
   "execution_count": 25,
   "id": "6dbe31c2-8562-4ebe-9ab0-27a0edcbe285",
   "metadata": {},
   "outputs": [],
   "source": [
    "user_data['hash_group'] =user_data.user_id.apply(ab_split)"
   ]
  },
  {
   "cell_type": "code",
   "execution_count": 26,
   "id": "15fdfcf1-2bfa-4909-8bf0-811af71aff3e",
   "metadata": {},
   "outputs": [
    {
     "data": {
      "text/html": [
       "<div>\n",
       "<style scoped>\n",
       "    .dataframe tbody tr th:only-of-type {\n",
       "        vertical-align: middle;\n",
       "    }\n",
       "\n",
       "    .dataframe tbody tr th {\n",
       "        vertical-align: top;\n",
       "    }\n",
       "\n",
       "    .dataframe thead th {\n",
       "        text-align: right;\n",
       "    }\n",
       "</style>\n",
       "<table border=\"1\" class=\"dataframe\">\n",
       "  <thead>\n",
       "    <tr style=\"text-align: right;\">\n",
       "      <th></th>\n",
       "      <th>hash_group</th>\n",
       "      <th>user_id</th>\n",
       "    </tr>\n",
       "  </thead>\n",
       "  <tbody>\n",
       "    <tr>\n",
       "      <th>0</th>\n",
       "      <td>0</td>\n",
       "      <td>25311</td>\n",
       "    </tr>\n",
       "    <tr>\n",
       "      <th>1</th>\n",
       "      <td>1</td>\n",
       "      <td>25441</td>\n",
       "    </tr>\n",
       "    <tr>\n",
       "      <th>2</th>\n",
       "      <td>2</td>\n",
       "      <td>25549</td>\n",
       "    </tr>\n",
       "    <tr>\n",
       "      <th>3</th>\n",
       "      <td>3</td>\n",
       "      <td>25511</td>\n",
       "    </tr>\n",
       "    <tr>\n",
       "      <th>4</th>\n",
       "      <td>4</td>\n",
       "      <td>25350</td>\n",
       "    </tr>\n",
       "  </tbody>\n",
       "</table>\n",
       "</div>"
      ],
      "text/plain": [
       "   hash_group  user_id\n",
       "0           0    25311\n",
       "1           1    25441\n",
       "2           2    25549\n",
       "3           3    25511\n",
       "4           4    25350"
      ]
     },
     "execution_count": 26,
     "metadata": {},
     "output_type": "execute_result"
    }
   ],
   "source": [
    "user_data.groupby('hash_group', as_index=False).agg({'user_id':'count'})"
   ]
  },
  {
   "cell_type": "code",
   "execution_count": 30,
   "id": "470761d5-237e-4335-bbd1-35a9179942f1",
   "metadata": {},
   "outputs": [],
   "source": [
    "user_data_2 = Getch(\n",
    "    '''\n",
    "    select xxHash64(toString(user_id)||'my_salt')%5 as group,\n",
    "    uniqExact(user_id)\n",
    "    from simulator_20220520.feed_actions \n",
    "    group by group\n",
    "    '''\n",
    "    ).df"
   ]
  },
  {
   "cell_type": "code",
   "execution_count": 31,
   "id": "474ca8d1-7348-4ee2-82f3-c900f8bbd4cc",
   "metadata": {},
   "outputs": [
    {
     "data": {
      "text/html": [
       "<div>\n",
       "<style scoped>\n",
       "    .dataframe tbody tr th:only-of-type {\n",
       "        vertical-align: middle;\n",
       "    }\n",
       "\n",
       "    .dataframe tbody tr th {\n",
       "        vertical-align: top;\n",
       "    }\n",
       "\n",
       "    .dataframe thead th {\n",
       "        text-align: right;\n",
       "    }\n",
       "</style>\n",
       "<table border=\"1\" class=\"dataframe\">\n",
       "  <thead>\n",
       "    <tr style=\"text-align: right;\">\n",
       "      <th></th>\n",
       "      <th>group</th>\n",
       "      <th>uniqExact(user_id)</th>\n",
       "    </tr>\n",
       "  </thead>\n",
       "  <tbody>\n",
       "    <tr>\n",
       "      <th>0</th>\n",
       "      <td>0</td>\n",
       "      <td>25466</td>\n",
       "    </tr>\n",
       "    <tr>\n",
       "      <th>1</th>\n",
       "      <td>1</td>\n",
       "      <td>25442</td>\n",
       "    </tr>\n",
       "    <tr>\n",
       "      <th>2</th>\n",
       "      <td>2</td>\n",
       "      <td>25458</td>\n",
       "    </tr>\n",
       "    <tr>\n",
       "      <th>3</th>\n",
       "      <td>3</td>\n",
       "      <td>25622</td>\n",
       "    </tr>\n",
       "    <tr>\n",
       "      <th>4</th>\n",
       "      <td>4</td>\n",
       "      <td>25176</td>\n",
       "    </tr>\n",
       "  </tbody>\n",
       "</table>\n",
       "</div>"
      ],
      "text/plain": [
       "   group  uniqExact(user_id)\n",
       "0      0               25466\n",
       "1      1               25442\n",
       "2      2               25458\n",
       "3      3               25622\n",
       "4      4               25176"
      ]
     },
     "execution_count": 31,
     "metadata": {},
     "output_type": "execute_result"
    }
   ],
   "source": [
    "user_data_2"
   ]
  },
  {
   "cell_type": "markdown",
   "id": "22323cd4-1872-49cf-9024-0d751d39b060",
   "metadata": {},
   "source": [
    "AA_тест Группы не должны отличаться друг от друга!!!"
   ]
  },
  {
   "cell_type": "code",
   "execution_count": 32,
   "id": "928ce3f5-7e00-4e2b-99d1-9446a3aff582",
   "metadata": {},
   "outputs": [],
   "source": [
    "df = Getch(\n",
    "    '''\n",
    "    select exp_group\n",
    "            ,user_id\n",
    "            ,sum(action='like') as likes\n",
    "            ,sum(action='view') as views\n",
    "            ,likes/views as ctr\n",
    "    from simulator_20220520.feed_actions \n",
    "    where toDate(time) between '2022-04-08' and '2022-04-14'\n",
    "        and exp_group in (2,3)\n",
    "    group by exp_group, user_id\n",
    "    '''\n",
    "    ).df"
   ]
  },
  {
   "cell_type": "code",
   "execution_count": 33,
   "id": "677cebd8-51d6-40e6-95b8-e11839253223",
   "metadata": {},
   "outputs": [
    {
     "data": {
      "text/html": [
       "<div>\n",
       "<style scoped>\n",
       "    .dataframe tbody tr th:only-of-type {\n",
       "        vertical-align: middle;\n",
       "    }\n",
       "\n",
       "    .dataframe tbody tr th {\n",
       "        vertical-align: top;\n",
       "    }\n",
       "\n",
       "    .dataframe thead th {\n",
       "        text-align: right;\n",
       "    }\n",
       "</style>\n",
       "<table border=\"1\" class=\"dataframe\">\n",
       "  <thead>\n",
       "    <tr style=\"text-align: right;\">\n",
       "      <th></th>\n",
       "      <th>exp_group</th>\n",
       "      <th>user_id</th>\n",
       "      <th>likes</th>\n",
       "      <th>views</th>\n",
       "      <th>ctr</th>\n",
       "    </tr>\n",
       "  </thead>\n",
       "  <tbody>\n",
       "    <tr>\n",
       "      <th>0</th>\n",
       "      <td>3</td>\n",
       "      <td>115383</td>\n",
       "      <td>33</td>\n",
       "      <td>100</td>\n",
       "      <td>0.330000</td>\n",
       "    </tr>\n",
       "    <tr>\n",
       "      <th>1</th>\n",
       "      <td>3</td>\n",
       "      <td>10326</td>\n",
       "      <td>17</td>\n",
       "      <td>72</td>\n",
       "      <td>0.236111</td>\n",
       "    </tr>\n",
       "    <tr>\n",
       "      <th>2</th>\n",
       "      <td>3</td>\n",
       "      <td>123580</td>\n",
       "      <td>0</td>\n",
       "      <td>11</td>\n",
       "      <td>0.000000</td>\n",
       "    </tr>\n",
       "    <tr>\n",
       "      <th>3</th>\n",
       "      <td>3</td>\n",
       "      <td>2709</td>\n",
       "      <td>25</td>\n",
       "      <td>72</td>\n",
       "      <td>0.347222</td>\n",
       "    </tr>\n",
       "    <tr>\n",
       "      <th>4</th>\n",
       "      <td>2</td>\n",
       "      <td>14680</td>\n",
       "      <td>7</td>\n",
       "      <td>52</td>\n",
       "      <td>0.134615</td>\n",
       "    </tr>\n",
       "    <tr>\n",
       "      <th>...</th>\n",
       "      <td>...</td>\n",
       "      <td>...</td>\n",
       "      <td>...</td>\n",
       "      <td>...</td>\n",
       "      <td>...</td>\n",
       "    </tr>\n",
       "    <tr>\n",
       "      <th>12406</th>\n",
       "      <td>3</td>\n",
       "      <td>13489</td>\n",
       "      <td>9</td>\n",
       "      <td>30</td>\n",
       "      <td>0.300000</td>\n",
       "    </tr>\n",
       "    <tr>\n",
       "      <th>12407</th>\n",
       "      <td>2</td>\n",
       "      <td>16512</td>\n",
       "      <td>7</td>\n",
       "      <td>41</td>\n",
       "      <td>0.170732</td>\n",
       "    </tr>\n",
       "    <tr>\n",
       "      <th>12408</th>\n",
       "      <td>2</td>\n",
       "      <td>17146</td>\n",
       "      <td>3</td>\n",
       "      <td>27</td>\n",
       "      <td>0.111111</td>\n",
       "    </tr>\n",
       "    <tr>\n",
       "      <th>12409</th>\n",
       "      <td>3</td>\n",
       "      <td>122008</td>\n",
       "      <td>6</td>\n",
       "      <td>60</td>\n",
       "      <td>0.100000</td>\n",
       "    </tr>\n",
       "    <tr>\n",
       "      <th>12410</th>\n",
       "      <td>3</td>\n",
       "      <td>122190</td>\n",
       "      <td>4</td>\n",
       "      <td>11</td>\n",
       "      <td>0.363636</td>\n",
       "    </tr>\n",
       "  </tbody>\n",
       "</table>\n",
       "<p>12411 rows × 5 columns</p>\n",
       "</div>"
      ],
      "text/plain": [
       "       exp_group  user_id  likes  views       ctr\n",
       "0              3   115383     33    100  0.330000\n",
       "1              3    10326     17     72  0.236111\n",
       "2              3   123580      0     11  0.000000\n",
       "3              3     2709     25     72  0.347222\n",
       "4              2    14680      7     52  0.134615\n",
       "...          ...      ...    ...    ...       ...\n",
       "12406          3    13489      9     30  0.300000\n",
       "12407          2    16512      7     41  0.170732\n",
       "12408          2    17146      3     27  0.111111\n",
       "12409          3   122008      6     60  0.100000\n",
       "12410          3   122190      4     11  0.363636\n",
       "\n",
       "[12411 rows x 5 columns]"
      ]
     },
     "execution_count": 33,
     "metadata": {},
     "output_type": "execute_result"
    }
   ],
   "source": [
    "df"
   ]
  },
  {
   "cell_type": "code",
   "execution_count": 35,
   "id": "1e0c7d99-0c72-4ffe-836e-7fac042c2017",
   "metadata": {},
   "outputs": [
    {
     "data": {
      "text/html": [
       "<div>\n",
       "<style scoped>\n",
       "    .dataframe tbody tr th:only-of-type {\n",
       "        vertical-align: middle;\n",
       "    }\n",
       "\n",
       "    .dataframe tbody tr th {\n",
       "        vertical-align: top;\n",
       "    }\n",
       "\n",
       "    .dataframe thead th {\n",
       "        text-align: right;\n",
       "    }\n",
       "</style>\n",
       "<table border=\"1\" class=\"dataframe\">\n",
       "  <thead>\n",
       "    <tr style=\"text-align: right;\">\n",
       "      <th></th>\n",
       "      <th>exp_group</th>\n",
       "      <th>user_id</th>\n",
       "      <th>likes</th>\n",
       "      <th>views</th>\n",
       "      <th>ctr</th>\n",
       "    </tr>\n",
       "  </thead>\n",
       "  <tbody>\n",
       "    <tr>\n",
       "      <th>0</th>\n",
       "      <td>2</td>\n",
       "      <td>6150</td>\n",
       "      <td>6150</td>\n",
       "      <td>6150</td>\n",
       "      <td>6150</td>\n",
       "    </tr>\n",
       "    <tr>\n",
       "      <th>1</th>\n",
       "      <td>3</td>\n",
       "      <td>6261</td>\n",
       "      <td>6261</td>\n",
       "      <td>6261</td>\n",
       "      <td>6261</td>\n",
       "    </tr>\n",
       "  </tbody>\n",
       "</table>\n",
       "</div>"
      ],
      "text/plain": [
       "   exp_group  user_id  likes  views   ctr\n",
       "0          2     6150   6150   6150  6150\n",
       "1          3     6261   6261   6261  6261"
      ]
     },
     "execution_count": 35,
     "metadata": {},
     "output_type": "execute_result"
    }
   ],
   "source": [
    "df.groupby('exp_group', as_index=False).count()\n",
    "#примерно одинаковое количество"
   ]
  },
  {
   "cell_type": "code",
   "execution_count": 39,
   "id": "775a8d86-02ac-46a0-a903-86ad303820ca",
   "metadata": {},
   "outputs": [
    {
     "data": {
      "image/png": "[encoded data removed]",
      "text/plain": [
       "<Figure size 864x576 with 1 Axes>"
      ]
     },
     "metadata": {},
     "output_type": "display_data"
    }
   ],
   "source": [
    "sns.set(rc={'figure.figsize':(12,8)})\n",
    "groups = sns.histplot(data =df\n",
    "                     ,x='ctr'\n",
    "                     ,hue='exp_group'\n",
    "                     ,palette = ['r','b']\n",
    "                     ,alpha=0.5\n",
    "                     ,kde=False)\n",
    "#вроде группы +/- похожи"
   ]
  },
  {
   "cell_type": "markdown",
   "id": "a880ea03-fb39-4033-b830-41498241a45c",
   "metadata": {},
   "source": [
    "Пункт 1. Известное. t-критерий Стьюдента\n",
    "\n",
    "среднее значение в двух группах.\n",
    "легко получить доверительный интервал\n",
    "считается быстро\n",
    "\n",
    "0 гипотеза - средние равны, альтернативная - средние неравны.\n",
    "\n",
    "Должны ли быть выборки нормальными?\n",
    "правильное количество степеней свободы\n",
    "\n",
    "Не работает: если распределение очень скошено, если много выбросов, если жирные выбросы это часть распредления\n",
    "\n",
    "Главная проблема - требует явной оценки дисперсии исследуемой метрики."
   ]
  },
  {
   "cell_type": "code",
   "execution_count": 42,
   "id": "389667e1-cb77-4ec4-b108-922a1ca5e9e3",
   "metadata": {},
   "outputs": [
    {
     "data": {
      "text/plain": [
       "Ttest_indResult(statistic=-0.6982272369218284, pvalue=0.48504818192842203)"
      ]
     },
     "execution_count": 42,
     "metadata": {},
     "output_type": "execute_result"
    }
   ],
   "source": [
    "stats.ttest_ind(df[df.exp_group == 2].ctr,\n",
    "                df[df.exp_group == 3].ctr,\n",
    "                equal_var=False)\n",
    "#дисперсия необязательно одинаковая\n",
    "#"
   ]
  },
  {
   "cell_type": "markdown",
   "id": "f2b36966-eeea-4616-b117-0c16062ec141",
   "metadata": {},
   "source": [
    "Пункт 2. Тоже известное. тест Манна-Уитни\n",
    "\n",
    "+ он такой же чувствительный как и первый\n",
    "умеет проверять различие в средних\n",
    "не привязан к распределению вашей метрики\n",
    "\n",
    "-  не очень удобно интерпретируемая нулевая гипотеза\n",
    "красится даже при равенстве средних\n",
    "работает дольше\n"
   ]
  },
  {
   "cell_type": "code",
   "execution_count": 48,
   "id": "41d00b9d-f6eb-4b21-87d9-f2292afd2105",
   "metadata": {},
   "outputs": [
    {
     "name": "stdout",
     "output_type": "stream",
     "text": [
      "MannwhitneyuResult(statistic=19216305.0, pvalue=0.855784126805524)\n",
      "Отличие не прокрасилось\n",
      "B 49.28 % случаев А > B. Должно получиться около 50%.\n"
     ]
    }
   ],
   "source": [
    "print(stats.mannwhitneyu(df[df.exp_group == 2].ctr,\n",
    "                df[df.exp_group == 3].ctr))\n",
    "\n",
    "print('Отличие не прокрасилось')\n",
    "\n",
    "A_gt_B = 0\n",
    "for _ in range(10000):\n",
    "    A_gt_B += df[df.exp_group == 2].ctr.sample().values[0] > df[df.exp_group == 3].ctr.sample().values[0]\n",
    "print('B', A_gt_B/100,'% случаев А > B. Должно получиться около 50%.')"
   ]
  },
  {
   "cell_type": "code",
   "execution_count": 49,
   "id": "b73c3083-2446-4754-9f00-34619ca79539",
   "metadata": {},
   "outputs": [
    {
     "name": "stdout",
     "output_type": "stream",
     "text": [
      "B 49.93 % случаев А > B. Должно получиться около 50%.\n"
     ]
    }
   ],
   "source": [
    "A_gt_B = 0\n",
    "for _ in range(10000):\n",
    "    A_gt_B += df[df.exp_group == 2].ctr.sample().values[0] > df[df.exp_group == 3].ctr.sample().values[0]\n",
    "print('B', A_gt_B/100,'% случаев А > B. Должно получиться около 50%.')\n",
    "## AA тест сходится!!!"
   ]
  },
  {
   "cell_type": "markdown",
   "id": "124e82b5-cba9-47a3-9c74-3648b7ef781e",
   "metadata": {},
   "source": [
    "Итак, что нужно сделать: у нас есть данные АА-теста с '2022-04-17' по '2022-04-23'. \n",
    "Вам нужно сделать симуляцию, как будто мы провели 10000 АА-тестов. \n",
    "На каждой итерации вам нужно сформировать подвыборки с повторением в 500 юзеров из 2 и 3 экспериментальной группы. \n",
    "Провести сравнение этих подвыборок t-testом."
   ]
  },
  {
   "cell_type": "code",
   "execution_count": 66,
   "id": "0f121152-d47f-4fec-a985-0e16baa25d6c",
   "metadata": {},
   "outputs": [],
   "source": [
    "df = Getch(\n",
    "    '''\n",
    "    select exp_group\n",
    "            ,user_id\n",
    "            ,sum(action='like') as likes\n",
    "            ,sum(action='view') as views\n",
    "            ,likes/views as ctr\n",
    "    from simulator_20220520.feed_actions \n",
    "    where toDate(time) between '2022-04-17' and '2022-04-23'\n",
    "        and exp_group in (2,3)\n",
    "    group by exp_group, user_id\n",
    "    '''\n",
    "    ).df"
   ]
  },
  {
   "cell_type": "code",
   "execution_count": 67,
   "id": "73aec773-6b1c-412b-b85c-ed211cdb01af",
   "metadata": {},
   "outputs": [
    {
     "data": {
      "text/plain": [
       "Ttest_indResult(statistic=-0.7393597924958364, pvalue=0.45969873156476293)"
      ]
     },
     "execution_count": 67,
     "metadata": {},
     "output_type": "execute_result"
    }
   ],
   "source": [
    "stats.ttest_ind(df[df.exp_group == 2].ctr,\n",
    "                df[df.exp_group == 3].ctr,\n",
    "                equal_var=False)\n",
    "#дисперсия необязательно одинаковая\n",
    "#"
   ]
  },
  {
   "cell_type": "code",
   "execution_count": 68,
   "id": "036ac131-a02f-4f09-8520-261c4ca3bfee",
   "metadata": {},
   "outputs": [
    {
     "name": "stdout",
     "output_type": "stream",
     "text": [
      "MannwhitneyuResult(statistic=36124728.5, pvalue=0.5177480614337441)\n",
      "Отличие не прокрасилось\n",
      "B 49.82 % случаев А > B. Должно получиться около 50%.\n"
     ]
    }
   ],
   "source": [
    "print(stats.mannwhitneyu(df[df.exp_group == 2].ctr,\n",
    "                df[df.exp_group == 3].ctr))\n",
    "\n",
    "print('Отличие не прокрасилось')\n",
    "\n",
    "A_gt_B = 0\n",
    "for _ in range(10000):\n",
    "    A_gt_B += df[df.exp_group == 2].ctr.sample().values[0] > df[df.exp_group == 3].ctr.sample().values[0]\n",
    "print('B', A_gt_B/100,'% случаев А > B. Должно получиться около 50%.')"
   ]
  },
  {
   "cell_type": "code",
   "execution_count": 53,
   "id": "95793362-c86e-40eb-b471-9b84e33a8b61",
   "metadata": {},
   "outputs": [
    {
     "data": {
      "image/png": "[encoded data removed]",
      "text/plain": [
       "<Figure size 864x576 with 1 Axes>"
      ]
     },
     "metadata": {},
     "output_type": "display_data"
    }
   ],
   "source": [
    "sns.set(rc={'figure.figsize':(12,8)})\n",
    "groups = sns.histplot(data =df\n",
    "                     ,x='ctr'\n",
    "                     ,hue='exp_group'\n",
    "                     ,palette = ['r','b']\n",
    "                     ,alpha=0.5\n",
    "                     ,kde=False)\n",
    "#вроде группы +/- похожи"
   ]
  },
  {
   "cell_type": "code",
   "execution_count": 54,
   "id": "1b1f92cc-e5f6-4a95-9d1b-1ef8607e0441",
   "metadata": {},
   "outputs": [
    {
     "data": {
      "text/plain": [
       "(0.21824612493721798, 0.21916104654193863)"
      ]
     },
     "execution_count": 54,
     "metadata": {},
     "output_type": "execute_result"
    }
   ],
   "source": [
    "df[df.exp_group == 2].ctr.mean(), df[df.exp_group == 3].ctr.mean()"
   ]
  },
  {
   "cell_type": "code",
   "execution_count": 60,
   "id": "d96d5682-4b14-4abf-9029-e0e42f68e90c",
   "metadata": {},
   "outputs": [],
   "source": [
    "df = Getch(\n",
    "    '''\n",
    "    with welchTTest(ctr, exp_index) as ttest\n",
    "    \n",
    "    select tupleElement(ttest,1) as statistic\n",
    "            ,tupleElement(ttest,2) as p_value\n",
    "    from\n",
    "    (select exp_group\n",
    "            ,case when exp_group = 2 then 0 else 1 end as exp_index\n",
    "            ,user_id\n",
    "            ,sum(action='like') as likes\n",
    "            ,sum(action='view') as views\n",
    "            ,likes/views as ctr\n",
    "    from simulator_20220520.feed_actions \n",
    "    where toDate(time) between '2022-04-17' and '2022-04-23'\n",
    "        and exp_group in (2,3)\n",
    "    group by exp_group, user_id)\n",
    "    '''\n",
    "    ).df"
   ]
  },
  {
   "cell_type": "code",
   "execution_count": 61,
   "id": "32da0871-d1e5-4e3e-b17c-b3c86bed37e9",
   "metadata": {},
   "outputs": [
    {
     "data": {
      "text/html": [
       "<div>\n",
       "<style scoped>\n",
       "    .dataframe tbody tr th:only-of-type {\n",
       "        vertical-align: middle;\n",
       "    }\n",
       "\n",
       "    .dataframe tbody tr th {\n",
       "        vertical-align: top;\n",
       "    }\n",
       "\n",
       "    .dataframe thead th {\n",
       "        text-align: right;\n",
       "    }\n",
       "</style>\n",
       "<table border=\"1\" class=\"dataframe\">\n",
       "  <thead>\n",
       "    <tr style=\"text-align: right;\">\n",
       "      <th></th>\n",
       "      <th>statistic</th>\n",
       "      <th>p_value</th>\n",
       "    </tr>\n",
       "  </thead>\n",
       "  <tbody>\n",
       "    <tr>\n",
       "      <th>0</th>\n",
       "      <td>-0.73936</td>\n",
       "      <td>0.459699</td>\n",
       "    </tr>\n",
       "  </tbody>\n",
       "</table>\n",
       "</div>"
      ],
      "text/plain": [
       "   statistic   p_value\n",
       "0   -0.73936  0.459699"
      ]
     },
     "execution_count": 61,
     "metadata": {},
     "output_type": "execute_result"
    }
   ],
   "source": [
    "df"
   ]
  },
  {
   "cell_type": "code",
   "execution_count": 63,
   "id": "9200ed0b-5c8b-4c25-977e-4cf25afc8cb6",
   "metadata": {},
   "outputs": [],
   "source": [
    "df = Getch(\n",
    "    '''\n",
    "    with mannWhitneyUTest('two-sided')(ctr, exp_index) as mv\n",
    "    \n",
    "    select tupleElement(mv,1) as statistic\n",
    "            ,tupleElement(mv,2) as p_value\n",
    "    from\n",
    "    (select exp_group\n",
    "            ,case when exp_group = 2 then 0 else 1 end as exp_index\n",
    "            ,user_id\n",
    "            ,sum(action='like') as likes\n",
    "            ,sum(action='view') as views\n",
    "            ,likes/views as ctr\n",
    "    from simulator_20220520.feed_actions \n",
    "    where toDate(time) between '2022-04-17' and '2022-04-23'\n",
    "        and exp_group in (2,3)\n",
    "    group by exp_group, user_id)\n",
    "    '''\n",
    "    ).df"
   ]
  },
  {
   "cell_type": "code",
   "execution_count": 64,
   "id": "9a10c38c-ad28-400e-a6d4-6de1d98bc023",
   "metadata": {},
   "outputs": [
    {
     "data": {
      "text/html": [
       "<div>\n",
       "<style scoped>\n",
       "    .dataframe tbody tr th:only-of-type {\n",
       "        vertical-align: middle;\n",
       "    }\n",
       "\n",
       "    .dataframe tbody tr th {\n",
       "        vertical-align: top;\n",
       "    }\n",
       "\n",
       "    .dataframe thead th {\n",
       "        text-align: right;\n",
       "    }\n",
       "</style>\n",
       "<table border=\"1\" class=\"dataframe\">\n",
       "  <thead>\n",
       "    <tr style=\"text-align: right;\">\n",
       "      <th></th>\n",
       "      <th>statistic</th>\n",
       "      <th>p_value</th>\n",
       "    </tr>\n",
       "  </thead>\n",
       "  <tbody>\n",
       "    <tr>\n",
       "      <th>0</th>\n",
       "      <td>36106477.5</td>\n",
       "      <td>0.481668</td>\n",
       "    </tr>\n",
       "  </tbody>\n",
       "</table>\n",
       "</div>"
      ],
      "text/plain": [
       "    statistic   p_value\n",
       "0  36106477.5  0.481668"
      ]
     },
     "execution_count": 64,
     "metadata": {},
     "output_type": "execute_result"
    }
   ],
   "source": [
    "df"
   ]
  },
  {
   "cell_type": "markdown",
   "id": "883216ed-f1ea-4107-b3b5-8e0bf5daf3ac",
   "metadata": {},
   "source": [
    "## СГЛАЖИВАНИЕ CTR"
   ]
  },
  {
   "cell_type": "code",
   "execution_count": 74,
   "id": "e710ec83-4487-42e5-8db3-cdf6a999b8d6",
   "metadata": {},
   "outputs": [],
   "source": [
    "def get_smothed_ctr(user_likes, user_views, global_ctr, alpha):\n",
    "    smothed_ctr = (user_likes + alpha * global_ctr)/(user_views + alpha)\n",
    "    return smothed_ctr"
   ]
  },
  {
   "cell_type": "code",
   "execution_count": 70,
   "id": "d053a549-61fb-4c38-8544-58963bdc0664",
   "metadata": {},
   "outputs": [],
   "source": [
    "df = Getch(\n",
    "    '''\n",
    "    select exp_group\n",
    "            ,user_id\n",
    "            ,sum(action='like') as likes\n",
    "            ,sum(action='view') as views\n",
    "            ,likes/views as ctr\n",
    "    from simulator_20220520.feed_actions \n",
    "    where toDate(time) between '2022-04-17' and '2022-04-23'\n",
    "        and exp_group in (2,3)\n",
    "    group by exp_group, user_id\n",
    "    '''\n",
    "    ).df"
   ]
  },
  {
   "cell_type": "code",
   "execution_count": 71,
   "id": "68a25699-e2e5-42d1-8cae-a40baefd532c",
   "metadata": {},
   "outputs": [],
   "source": [
    "global_ctr_2 = df[df.exp_group == 2].likes.sum()/df[df.exp_group == 2].views.sum()\n",
    "global_ctr_3 = df[df.exp_group == 3].likes.sum()/df[df.exp_group == 3].views.sum()"
   ]
  },
  {
   "cell_type": "code",
   "execution_count": 72,
   "id": "ba62dda6-4c2e-4b33-9474-6f0fcae84dc8",
   "metadata": {},
   "outputs": [
    {
     "name": "stderr",
     "output_type": "stream",
     "text": [
      "/nfs/env/lib/python3.8/site-packages/seaborn/distributions.py:2557: FutureWarning: `distplot` is a deprecated function and will be removed in a future version. Please adapt your code to use either `displot` (a figure-level function with similar flexibility) or `histplot` (an axes-level function for histograms).\n",
      "  warnings.warn(msg, FutureWarning)\n"
     ]
    },
    {
     "data": {
      "text/plain": [
       "<AxesSubplot:xlabel='ctr'>"
      ]
     },
     "execution_count": 72,
     "metadata": {},
     "output_type": "execute_result"
    },
    {
     "data": {
      "image/png": "[encoded data removed]",
      "text/plain": [
       "<Figure size 864x576 with 1 Axes>"
      ]
     },
     "metadata": {},
     "output_type": "display_data"
    }
   ],
   "source": [
    "group2 = df[df.exp_group == 2].copy()\n",
    "sns.distplot(group2.ctr, kde = False)"
   ]
  },
  {
   "cell_type": "code",
   "execution_count": 75,
   "id": "2773040a-8c02-4dfa-8307-d1dcaea9b9f3",
   "metadata": {},
   "outputs": [],
   "source": [
    "group2['smothed_ctr'] = df.apply(\n",
    "    lambda x: get_smothed_ctr(x['likes'],x['views'],global_ctr_2,5), axis=1)"
   ]
  },
  {
   "cell_type": "code",
   "execution_count": 76,
   "id": "c3e15ae4-4e61-4d4c-be31-12ea9ae6c4fc",
   "metadata": {},
   "outputs": [
    {
     "data": {
      "text/plain": [
       "<AxesSubplot:xlabel='smothed_ctr'>"
      ]
     },
     "execution_count": 76,
     "metadata": {},
     "output_type": "execute_result"
    },
    {
     "data": {
      "image/png": "[encoded data removed]",
      "text/plain": [
       "<Figure size 864x576 with 1 Axes>"
      ]
     },
     "metadata": {},
     "output_type": "display_data"
    }
   ],
   "source": [
    "sns.distplot(group2.smothed_ctr, kde = False)"
   ]
  },
  {
   "cell_type": "markdown",
   "id": "fd6127ae-c279-4b9d-82e2-72ad0ebd4c64",
   "metadata": {},
   "source": [
    "## Пуассоновский бутстреп\n",
    "ОЧЕНЬ медленный"
   ]
  },
  {
   "cell_type": "code",
   "execution_count": 80,
   "id": "7c66cd78-5410-470b-8f23-8e91247b1364",
   "metadata": {},
   "outputs": [
    {
     "data": {
      "text/plain": [
       "[2, 3, 10, 5, 6, 1, 1, 1, 7, 9]"
      ]
     },
     "execution_count": 80,
     "metadata": {},
     "output_type": "execute_result"
    }
   ],
   "source": [
    "sample = [1,2,3,4,5,6,7,8,9,10]\n",
    "# Есть выборка\n",
    "df = pd.DataFrame()\n",
    "df['data'] =[1,2,3,4,5,6,7,8,9,10]\n",
    "\n",
    "# генерю перевыборку\n",
    "\n",
    "[np.random.choice(df.data) for _ in range(len(sample))]"
   ]
  },
  {
   "cell_type": "code",
   "execution_count": 81,
   "id": "7f1610b8-b3db-4bb9-9487-a393bcdbb3a9",
   "metadata": {},
   "outputs": [
    {
     "data": {
      "text/plain": [
       "[8, 2, 3, 3, 5, 1, 9, 4, 9, 4]"
      ]
     },
     "execution_count": 81,
     "metadata": {},
     "output_type": "execute_result"
    }
   ],
   "source": [
    "#replace - выборка с возвращением\n",
    "df.data.sample(10, replace=True).tolist()"
   ]
  },
  {
   "cell_type": "markdown",
   "id": "5b22282a-a64e-4278-8627-c9276426235c",
   "metadata": {},
   "source": [
    "k = Binomial(n,1/n)"
   ]
  },
  {
   "cell_type": "code",
   "execution_count": 82,
   "id": "f27bb1fd-70e7-4fc7-9ca6-69db965d4c1d",
   "metadata": {},
   "outputs": [],
   "source": [
    "df = pd.DataFrame()\n",
    "df['data'] =np.random.randint(1,100000,10000)"
   ]
  },
  {
   "cell_type": "code",
   "execution_count": 86,
   "id": "793a50a2-7811-4629-aae4-0186235c154f",
   "metadata": {},
   "outputs": [],
   "source": [
    "sample_length = 10000\n",
    "p_to_be_taken = 1/sample_length\n",
    "number_of_samples = 1000\n",
    "\n",
    "sums = [sum(stats.binom(sample_length,\n",
    "                        p_to_be_taken).rvs(sample_length)) for _ in range(number_of_samples)]"
   ]
  },
  {
   "cell_type": "code",
   "execution_count": 88,
   "id": "4827da42-1c32-45b9-a88c-389cea1b3c18",
   "metadata": {},
   "outputs": [
    {
     "data": {
      "text/plain": [
       "<AxesSubplot:ylabel='Count'>"
      ]
     },
     "execution_count": 88,
     "metadata": {},
     "output_type": "execute_result"
    },
    {
     "data": {
      "image/png": "[encoded data removed]",
      "text/plain": [
       "<Figure size 864x576 with 1 Axes>"
      ]
     },
     "metadata": {},
     "output_type": "display_data"
    }
   ],
   "source": [
    "sns.histplot(sums)"
   ]
  },
  {
   "cell_type": "code",
   "execution_count": 99,
   "id": "25d7d995-2230-44f7-ac11-24ec01d3e059",
   "metadata": {},
   "outputs": [],
   "source": [
    "def bootstrap(likes1, views1, likes2, views2, n_bootstrap=2000):\n",
    "    poisson_bootstrap1 = stats.poisson(1).rvs(\n",
    "        (2000, len(likes1))).astype(np.int64)\n",
    "    \n",
    "    poisson_bootstrap2 = stats.poisson(1).rvs(\n",
    "        (2000, len(likes2))).astype(np.int64)  \n",
    "        \n",
    "    globalCTR1=(poisson_bootstrap1*likes1).sum(axis=1)/(poisson_bootstrap1*views1).sum(axis=1)\n",
    "    \n",
    "    globalCTR2=(poisson_bootstrap2*likes2).sum(axis=1)/(poisson_bootstrap2*views2).sum(axis=1) \n",
    "    \n",
    "    return globalCTR1, globalCTR2"
   ]
  },
  {
   "cell_type": "code",
   "execution_count": 95,
   "id": "bf1549b0-cea2-4b89-9452-c3d7ae7d9d8b",
   "metadata": {},
   "outputs": [],
   "source": [
    "df = Getch(\n",
    "    '''\n",
    "    select exp_group\n",
    "            ,user_id\n",
    "            ,sum(action='like') as likes\n",
    "            ,sum(action='view') as views\n",
    "            ,likes/views as ctr\n",
    "    from simulator_20220520.feed_actions \n",
    "    where toDate(time) between '2022-04-17' and '2022-04-23'\n",
    "        and exp_group in (2,3)\n",
    "    group by exp_group, user_id\n",
    "    '''\n",
    "    ).df\n",
    "\n",
    "likes1 = df[df.exp_group == 2].likes.to_numpy()\n",
    "likes2 = df[df.exp_group == 3].likes.to_numpy()\n",
    "views1 = df[df.exp_group == 2].views.to_numpy()\n",
    "views2 = df[df.exp_group == 3].views.to_numpy()"
   ]
  },
  {
   "cell_type": "code",
   "execution_count": 100,
   "id": "1becfdbc-610d-4f52-99e5-0043068ef31e",
   "metadata": {},
   "outputs": [],
   "source": [
    "ctr1, ctr2 = bootstrap(likes1,views1,likes2,views2)"
   ]
  },
  {
   "cell_type": "code",
   "execution_count": 102,
   "id": "eb4f3a3d-d97e-435b-9e31-8b4b36e0d273",
   "metadata": {},
   "outputs": [
    {
     "data": {
      "text/plain": [
       "<AxesSubplot:ylabel='Count'>"
      ]
     },
     "execution_count": 102,
     "metadata": {},
     "output_type": "execute_result"
    },
    {
     "data": {
      "image/png": "[encoded data removed]",
      "text/plain": [
       "<Figure size 864x576 with 1 Axes>"
      ]
     },
     "metadata": {},
     "output_type": "display_data"
    }
   ],
   "source": [
    "sns.histplot(ctr1)\n",
    "sns.histplot(ctr2)"
   ]
  },
  {
   "cell_type": "markdown",
   "id": "a77655e9-9a50-41a3-be31-360b9855554e",
   "metadata": {},
   "source": [
    "## Гистограмма разницы"
   ]
  },
  {
   "cell_type": "code",
   "execution_count": 103,
   "id": "828a0f3d-57ee-4254-8c89-4badbb6b2776",
   "metadata": {},
   "outputs": [
    {
     "data": {
      "text/plain": [
       "<AxesSubplot:ylabel='Count'>"
      ]
     },
     "execution_count": 103,
     "metadata": {},
     "output_type": "execute_result"
    },
    {
     "data": {
      "image/png": "[encoded data removed]",
      "text/plain": [
       "<Figure size 864x576 with 1 Axes>"
      ]
     },
     "metadata": {},
     "output_type": "display_data"
    }
   ],
   "source": [
    "sns.histplot(ctr1-ctr2)"
   ]
  },
  {
   "cell_type": "markdown",
   "id": "7971bfbd-b2c5-48d8-bf84-1f49a685b5e4",
   "metadata": {},
   "source": [
    "## Бакетное преобразование"
   ]
  },
  {
   "cell_type": "code",
   "execution_count": 104,
   "id": "cbb8713b-5421-40c6-a34e-5881a31e94e9",
   "metadata": {},
   "outputs": [],
   "source": [
    "df = Getch(\n",
    "    '''\n",
    "    select exp_group,bucket\n",
    "            ,sum(likes)/sum(views) as bucket_ctr\n",
    "            ,quantileExact(0.9)(ctr) as ctr9\n",
    "    from (select exp_group\n",
    "                ,xxHash64(user_id)%50 as bucket\n",
    "                ,user_id\n",
    "                ,sum(action='like') as likes\n",
    "                ,sum(action='view') as views\n",
    "                ,likes/views as ctr\n",
    "        from simulator_20220520.feed_actions \n",
    "        where toDate(time) between '2022-04-17' and '2022-04-23'\n",
    "            and exp_group in (2,3)\n",
    "        group by exp_group, user_id)\n",
    "    group by exp_group,bucket\n",
    "    '''\n",
    "    ).df"
   ]
  },
  {
   "cell_type": "code",
   "execution_count": 106,
   "id": "b9870458-b0cd-4f3e-a094-2e1ba390fc1c",
   "metadata": {},
   "outputs": [
    {
     "data": {
      "text/plain": [
       "MannwhitneyuResult(statistic=1308.0, pvalue=0.6918139175147417)"
      ]
     },
     "execution_count": 106,
     "metadata": {},
     "output_type": "execute_result"
    }
   ],
   "source": [
    "stats.mannwhitneyu(df[df.exp_group == 2].bucket_ctr,\n",
    "                    df[df.exp_group == 3].bucket_ctr,\n",
    "                    alternative = 'two-sided')"
   ]
  },
  {
   "cell_type": "code",
   "execution_count": 111,
   "id": "9be09b40-fadc-4569-bbb4-345edfa2980b",
   "metadata": {},
   "outputs": [
    {
     "data": {
      "text/plain": [
       "<AxesSubplot:xlabel='bucket_ctr', ylabel='Count'>"
      ]
     },
     "execution_count": 111,
     "metadata": {},
     "output_type": "execute_result"
    },
    {
     "data": {
      "image/png": "[encoded data removed]",
      "text/plain": [
       "<Figure size 864x576 with 1 Axes>"
      ]
     },
     "metadata": {},
     "output_type": "display_data"
    }
   ],
   "source": [
    "sns.histplot(df[df.exp_group == 3].bucket_ctr, bins =20)\n",
    "sns.histplot(df[df.exp_group == 2].bucket_ctr, bins =20)"
   ]
  },
  {
   "cell_type": "code",
   "execution_count": 112,
   "id": "a7715639-6328-4288-b43f-1f69a4883b85",
   "metadata": {},
   "outputs": [
    {
     "data": {
      "text/plain": [
       "Ttest_indResult(statistic=0.5473397094077321, pvalue=0.5854154373001292)"
      ]
     },
     "execution_count": 112,
     "metadata": {},
     "output_type": "execute_result"
    }
   ],
   "source": [
    "stats.ttest_ind(df[df.exp_group == 2].bucket_ctr,\n",
    "                    df[df.exp_group == 3].bucket_ctr,\n",
    "                    equal_var = False)"
   ]
  },
  {
   "cell_type": "code",
   "execution_count": 113,
   "id": "626a36a4-51d9-4f5f-b3a3-33ca24aea065",
   "metadata": {},
   "outputs": [
    {
     "data": {
      "text/plain": [
       "<AxesSubplot:xlabel='ctr9', ylabel='Count'>"
      ]
     },
     "execution_count": 113,
     "metadata": {},
     "output_type": "execute_result"
    },
    {
     "data": {
      "image/png": "[encoded data removed]",
      "text/plain": [
       "<Figure size 864x576 with 1 Axes>"
      ]
     },
     "metadata": {},
     "output_type": "display_data"
    }
   ],
   "source": [
    "sns.histplot(df[df.exp_group == 3].ctr9, bins =20)\n",
    "sns.histplot(df[df.exp_group == 2].ctr9, bins =20)"
   ]
  },
  {
   "cell_type": "code",
   "execution_count": 114,
   "id": "8c3327df-403c-429c-b693-1d7c8ffe74bf",
   "metadata": {},
   "outputs": [
    {
     "data": {
      "text/plain": [
       "MannwhitneyuResult(statistic=1215.0, pvalue=0.8103505034829273)"
      ]
     },
     "execution_count": 114,
     "metadata": {},
     "output_type": "execute_result"
    }
   ],
   "source": [
    "stats.mannwhitneyu(df[df.exp_group == 2].ctr9,\n",
    "                    df[df.exp_group == 3].ctr9,\n",
    "                    alternative = 'two-sided')"
   ]
  },
  {
   "cell_type": "code",
   "execution_count": null,
   "id": "2f824c54-2dab-41f6-8871-a2695f55a764",
   "metadata": {},
   "outputs": [],
   "source": []
  },
  {
   "cell_type": "code",
   "execution_count": null,
   "id": "8851548e-b499-46f2-ad87-1dd1041fcb9c",
   "metadata": {},
   "outputs": [],
   "source": []
  }
 ],
 "metadata": {
  "kernelspec": {
   "display_name": "Python 3 (ipykernel)",
   "language": "python",
   "name": "python3"
  },
  "language_info": {
   "codemirror_mode": {
    "name": "ipython",
    "version": 3
   },
   "file_extension": ".py",
   "mimetype": "text/x-python",
   "name": "python",
   "nbconvert_exporter": "python",
   "pygments_lexer": "ipython3",
   "version": "3.8.10"
  }
 },
 "nbformat": 4,
 "nbformat_minor": 5
}
