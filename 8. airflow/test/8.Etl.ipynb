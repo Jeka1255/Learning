{
 "cells": [
  {
   "cell_type": "code",
   "execution_count": 10,
   "id": "d33893db-60e3-48bd-8524-11aa74247f6b",
   "metadata": {},
   "outputs": [],
   "source": [
    "import pandas as pd\n",
    "from read_db.CH import Getch\n",
    "import pandahouse\n",
    "from datetime import date,timedelta, datetime\n",
    "import telegram\n",
    "import seaborn as sns\n",
    "import matplotlib.pyplot as plt\n",
    "import io\n",
    "import numpy as np\n",
    "\n",
    "sns.set_style(\"whitegrid\")"
   ]
  },
  {
   "cell_type": "code",
   "execution_count": 14,
   "id": "ff2ce06d-01da-49b2-97b9-65fbac349451",
   "metadata": {},
   "outputs": [],
   "source": [
    "from airflow.decorators import dag, task\n",
    "from airflow.operators.python import get_current_context\n",
    "\n",
    "from airflow import DAG\n",
    "from airflow.operators.python_operator import PythonOperator"
   ]
  },
  {
   "cell_type": "code",
   "execution_count": 15,
   "id": "a9cd1fb3-f33b-4bcf-88e8-586efd2ed3a8",
   "metadata": {},
   "outputs": [],
   "source": [
    "#Дефолтные параметры, которые прокидываются в таски\n",
    "default_args = {\n",
    "    'owner': 'e-orlova-7',\n",
    "    'depends_on_past' : False,\n",
    "    'retries':2,\n",
    "    'retry_delay': timedelta(minutes=5),\n",
    "    'start_date': datetime(2022,6,2),\n",
    "}"
   ]
  },
  {
   "cell_type": "code",
   "execution_count": 16,
   "id": "9003698e-0f54-46ee-98ea-eb25d8c2f06c",
   "metadata": {},
   "outputs": [],
   "source": [
    "#Интеравал запуска Даг\n",
    "schedule_interval = '0 12 * * *'"
   ]
  },
  {
   "cell_type": "code",
   "execution_count": 17,
   "id": "a298f254-e7b7-4d52-a11e-80073739a09d",
   "metadata": {},
   "outputs": [],
   "source": [
    "dag = DAG('DAG_orlova', default_args=default_args, schedule_interval=schedule_interval)"
   ]
  },
  {
   "cell_type": "code",
   "execution_count": 20,
   "id": "d5a2ee59-859d-4eeb-8a99-f6b90ac35dd2",
   "metadata": {},
   "outputs": [
    {
     "data": {
      "text/html": [
       "<div>\n",
       "<style scoped>\n",
       "    .dataframe tbody tr th:only-of-type {\n",
       "        vertical-align: middle;\n",
       "    }\n",
       "\n",
       "    .dataframe tbody tr th {\n",
       "        vertical-align: top;\n",
       "    }\n",
       "\n",
       "    .dataframe thead th {\n",
       "        text-align: right;\n",
       "    }\n",
       "</style>\n",
       "<table border=\"1\" class=\"dataframe\">\n",
       "  <thead>\n",
       "    <tr style=\"text-align: right;\">\n",
       "      <th></th>\n",
       "      <th>user_id</th>\n",
       "      <th>source</th>\n",
       "      <th>gender</th>\n",
       "      <th>age</th>\n",
       "      <th>os</th>\n",
       "      <th>event_date</th>\n",
       "      <th>like</th>\n",
       "      <th>view</th>\n",
       "    </tr>\n",
       "  </thead>\n",
       "  <tbody>\n",
       "    <tr>\n",
       "      <th>0</th>\n",
       "      <td>65321</td>\n",
       "      <td>ads</td>\n",
       "      <td>1</td>\n",
       "      <td>42</td>\n",
       "      <td>Android</td>\n",
       "      <td>2022-06-01</td>\n",
       "      <td>2</td>\n",
       "      <td>18</td>\n",
       "    </tr>\n",
       "    <tr>\n",
       "      <th>1</th>\n",
       "      <td>136108</td>\n",
       "      <td>organic</td>\n",
       "      <td>1</td>\n",
       "      <td>48</td>\n",
       "      <td>Android</td>\n",
       "      <td>2022-06-01</td>\n",
       "      <td>3</td>\n",
       "      <td>24</td>\n",
       "    </tr>\n",
       "  </tbody>\n",
       "</table>\n",
       "</div>"
      ],
      "text/plain": [
       "   user_id   source  gender  age       os event_date  like  view\n",
       "0    65321      ads       1   42  Android 2022-06-01     2    18\n",
       "1   136108  organic       1   48  Android 2022-06-01     3    24"
      ]
     },
     "execution_count": 20,
     "metadata": {},
     "output_type": "execute_result"
    }
   ],
   "source": [
    "full_data = Getch(\n",
    "'''\n",
    "select user_id,source ,gender, age, os\n",
    "        ,toDate(time) as event_date\n",
    "        ,countIf(post_id,action ='like') as like\n",
    "        ,countIf(post_id,action='view') as view\n",
    "from simulator_20220520.feed_actions\n",
    "where toDate(time) = today()-1\n",
    "group by user_id, source, gender, age, os, toDate(time)\n",
    "'''\n",
    "    ).df\n",
    "full_data.head(2)\n"
   ]
  },
  {
   "cell_type": "code",
   "execution_count": 21,
   "id": "d4f2f5ae-feff-4342-bbd4-0b0551363831",
   "metadata": {},
   "outputs": [],
   "source": [
    "def foo1():\n",
    "    feed = Getch(\n",
    "        '''\n",
    "        select user_id,source ,gender, age, os\n",
    "                ,toDate(time) as event_date\n",
    "                ,countIf(post_id,action ='like') as like\n",
    "                ,countIf(post_id,action='view') as view\n",
    "        from simulator_20220520.feed_actions\n",
    "        where toDate(time) = today()-1\n",
    "        group by user_id, source, gender, age, os, toDate(time)\n",
    "        ''').df\n",
    "    return feed"
   ]
  },
  {
   "cell_type": "code",
   "execution_count": null,
   "id": "f597dd47-3459-4e78-a19a-d3fb65fb9409",
   "metadata": {},
   "outputs": [],
   "source": [
    "def foo2():\n",
    "def foo3():"
   ]
  },
  {
   "cell_type": "code",
   "execution_count": 22,
   "id": "40b7e316-61ea-4364-bf41-fb6756220c29",
   "metadata": {},
   "outputs": [],
   "source": [
    "t1 = PythonOperator(task_id='foo1', # Название таска\n",
    "                    python_callable=foo1, # Название функции\n",
    "                    dag=dag) # Параметры DAG"
   ]
  },
  {
   "cell_type": "code",
   "execution_count": null,
   "id": "9db1028f-48c9-4fb3-9197-2287700bd4a5",
   "metadata": {},
   "outputs": [],
   "source": [
    "t1 = PythonOperator(task_id='foo1', # Название таска\n",
    "                    python_callable=foo1, # Название функции\n",
    "                    dag=dag) # Параметры DAG\n",
    "\n",
    "t2 = PythonOperator(task_id='foo2', # Название таска\n",
    "                    python_callable=foo2, # Название функции\n",
    "                    dag=dag) # Параметры DAG\n",
    "\n",
    "t3 = PythonOperator(task_id='foo2', # Название таска\n",
    "                    python_callable=foo2, # Название функции\n",
    "                    dag=dag) # Параметры DAG"
   ]
  },
  {
   "cell_type": "code",
   "execution_count": null,
   "id": "63a82caa-534a-4336-8fca-b466f48094bd",
   "metadata": {},
   "outputs": [],
   "source": [
    "# Python-операторы\n",
    "t1 >> t2 >> t3 "
   ]
  },
  {
   "cell_type": "code",
   "execution_count": null,
   "id": "2dd4987c-0390-43d0-b2b0-abc1945bbecc",
   "metadata": {},
   "outputs": [],
   "source": [
    "t1"
   ]
  },
  {
   "cell_type": "code",
   "execution_count": null,
   "id": "d60a3d75-2416-4a22-b74e-3d9cd2895720",
   "metadata": {},
   "outputs": [],
   "source": [
    "# Методы таска\n",
    "t1.set_downstream(t2)\n",
    "t2.set_downstream(t3)"
   ]
  },
  {
   "cell_type": "code",
   "execution_count": null,
   "id": "b5a24ae9-b714-415e-831c-307afa7b9116",
   "metadata": {},
   "outputs": [],
   "source": [
    "@dag(default_args=default_args, schedule_interval=schedule_interval, catchup =False)\n",
    "def DAG_orlova():\n",
    "    pass"
   ]
  },
  {
   "cell_type": "code",
   "execution_count": 23,
   "id": "95c49152-8a72-4bb8-a3e8-a90f3459f267",
   "metadata": {},
   "outputs": [],
   "source": [
    "# coding=utf-8\n",
    "\n",
    "from datetime import datetime, timedelta\n",
    "import pandas as pd\n",
    "from io import StringIO\n",
    "import requests\n",
    "\n",
    "from airflow.decorators import dag, task\n",
    "from airflow.operators.python import get_current_context\n",
    "\n",
    "\n",
    "# Функция для CH\n",
    "def ch_get_df(query='Select 1', \n",
    "              host='https://clickhouse.lab.karpov.courses', user='student', password='dpo_python_2020'):\n",
    "    r = requests.post(host, data=query.encode(\"utf-8\"), auth=(user, password), verify=False)\n",
    "    result = pd.read_csv(StringIO(r.text), sep='\\t')\n",
    "    return result\n",
    "\n",
    "\n",
    "query = \"\"\"SELECT \n",
    "               toDate(time) as event_date, \n",
    "               country, \n",
    "               source,\n",
    "               count() as likes\n",
    "            FROM \n",
    "                simulator_20220520.feed_actions \n",
    "            where \n",
    "                toDate(time) = today()-1 \n",
    "                and action = 'like'\n",
    "            group by\n",
    "                event_date,\n",
    "                country,\n",
    "                source\n",
    "            format TSVWithNames\"\"\"\n",
    "\n",
    "# Дефолтные параметры, которые прокидываются в таски\n",
    "default_args = {\n",
    "    'owner': 'e-orlova-7',\n",
    "    'depends_on_past': False,\n",
    "    'retries': 2,\n",
    "    'retry_delay': timedelta(minutes=5),\n",
    "    'start_date': datetime(2022, 6, 2),\n",
    "}\n",
    "\n",
    "# Интервал запуска DAG\n",
    "schedule_interval = '0 23 * * *'\n",
    "\n",
    "@dag(default_args=default_args, schedule_interval=schedule_interval, catchup=False)\n",
    "def dag_sim_example():\n",
    "\n",
    "    @task()\n",
    "    def extract():\n",
    "        query = \"\"\"SELECT \n",
    "                       toDate(time) as event_date, \n",
    "                       country, \n",
    "                       source,\n",
    "                       count() as likes\n",
    "                    FROM \n",
    "                        simulator.feed_actions \n",
    "                    where \n",
    "                        toDate(time) = '2022-01-26' \n",
    "                        and action = 'like'\n",
    "                    group by\n",
    "                        event_date,\n",
    "                        country,\n",
    "                        source\n",
    "                    format TSVWithNames\"\"\"\n",
    "        df_cube = ch_get_df(query=query)\n",
    "        return df_cube\n",
    "\n",
    "    @task\n",
    "    def transfrom_source(df_cube):\n",
    "        df_cube_source = df_cube[['event_date', 'source', 'likes']]\\\n",
    "            .groupby(['event_date', 'source'])\\\n",
    "            .sum()\\\n",
    "            .reset_index()\n",
    "        return df_cube_source\n",
    "\n",
    "    @task\n",
    "    def transfrom_countries(df_cube):\n",
    "        df_cube_country = df_cube[['event_date', 'country', 'likes']]\\\n",
    "            .groupby(['event_date', 'country'])\\\n",
    "            .sum()\\\n",
    "            .reset_index()\n",
    "        return df_cube_country\n",
    "\n",
    "    @task\n",
    "    def load(df_cube_source, df_cube_country):\n",
    "        context = get_current_context()\n",
    "        ds = context['ds']\n",
    "        print(f'Likes per source for {ds}')\n",
    "        print(df_cube_source.to_csv(index=False, sep='\\t'))\n",
    "        print(f'Likes per country for {ds}')\n",
    "        print(df_cube_country.to_csv(index=False, sep='\\t'))\n",
    "\n",
    "    df_cube = extract()\n",
    "    df_cube_source = transfrom_source(df_cube)\n",
    "    df_cube_country = transfrom_countries(df_cube)\n",
    "    load(df_cube_source, df_cube_country)\n",
    "\n",
    "dag_sim_example = dag_sim_example()"
   ]
  },
  {
   "cell_type": "code",
   "execution_count": null,
   "id": "b832a0ed-53d4-4df5-8439-ba2d574dddd8",
   "metadata": {},
   "outputs": [],
   "source": []
  }
 ],
 "metadata": {
  "kernelspec": {
   "display_name": "Python 3 (ipykernel)",
   "language": "python",
   "name": "python3"
  },
  "language_info": {
   "codemirror_mode": {
    "name": "ipython",
    "version": 3
   },
   "file_extension": ".py",
   "mimetype": "text/x-python",
   "name": "python",
   "nbconvert_exporter": "python",
   "pygments_lexer": "ipython3",
   "version": "3.8.10"
  }
 },
 "nbformat": 4,
 "nbformat_minor": 5
}
