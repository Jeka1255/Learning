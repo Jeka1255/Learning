{
 "cells": [
  {
   "cell_type": "markdown",
   "id": "0bb5395a-a2e1-424f-897d-5a6473ea52a0",
   "metadata": {},
   "source": [
    "# Задача 3"
   ]
  },
  {
   "cell_type": "markdown",
   "id": "0c6a78a2-1d68-4064-b61b-48efdd46a6ab",
   "metadata": {},
   "source": [
    "Проанализируйте тест между группами 0 и 3 по метрике линеаризованных лайков. Видно ли отличие? Стало ли 𝑝−𝑣𝑎𝑙𝑢𝑒 меньше?\n",
    "\n",
    "Проанализируйте тест между группами 1 и 2 по метрике линеаризованных лайков. Видно ли отличие? Стало ли 𝑝−𝑣𝑎𝑙𝑢𝑒 меньше?"
   ]
  },
  {
   "cell_type": "code",
   "execution_count": 71,
   "id": "c9a3d947-3806-4d1f-973f-ede3c455fad3",
   "metadata": {},
   "outputs": [],
   "source": [
    "import pandas as pd\n",
    "from read_db.CH import Getch\n",
    "import pandahouse\n",
    "from datetime import date,timedelta, datetime\n",
    "import telegram\n",
    "import seaborn as sns\n",
    "import matplotlib.pyplot as plt\n",
    "import io\n",
    "sns.set(style ='ticks')\n",
    "import hashlib\n",
    "from scipy import stats\n",
    "import numpy as np\n",
    "from tqdm.auto import tqdm\n",
    "#import swifter"
   ]
  },
  {
   "cell_type": "code",
   "execution_count": 72,
   "id": "9b83d8e1-cef7-4e3f-8d3a-1af8922c5e76",
   "metadata": {},
   "outputs": [],
   "source": [
    "df = Getch(\n",
    "    '''\n",
    "    select exp_group\n",
    "            ,user_id\n",
    "            ,sum(action='like') as likes\n",
    "            ,sum(action='view') as views\n",
    "            ,likes/views as ctr\n",
    "    from simulator_20220520.feed_actions \n",
    "    where toDate(time) between '2022-04-24' and '2022-04-30'\n",
    "        and exp_group in (3,0)\n",
    "    group by exp_group, user_id\n",
    "    '''\n",
    ").df"
   ]
  },
  {
   "cell_type": "markdown",
   "id": "3ffceac0-98f3-462a-a860-b13e527ba46a",
   "metadata": {},
   "source": [
    "Проанализируйте тест между группами 0 и 3 по метрике линеаризованных лайков. Видно ли отличие? Стало ли 𝑝−𝑣𝑎𝑙𝑢𝑒 меньше?"
   ]
  },
  {
   "cell_type": "markdown",
   "id": "0b508ec5-32cc-4ffc-86cf-06bd9778eb91",
   "metadata": {},
   "source": [
    "Считаем общий CTR в контрольной группе  𝐶𝑇𝑅𝑐𝑜𝑛𝑡𝑟𝑜𝑙=𝑠𝑢𝑚(𝑙𝑖𝑘𝑒𝑠)/𝑠𝑢𝑚(𝑣𝑖𝑒𝑤𝑠) \n",
    "Посчитаем в обеих группах поюзерную метрику  𝑙𝑖𝑛𝑒𝑎𝑟𝑖𝑧𝑒𝑑_𝑙𝑖𝑘𝑒𝑠=𝑙𝑖𝑘𝑒𝑠−𝐶𝑇𝑅𝑐𝑜𝑛𝑡𝑟𝑜𝑙∗𝑣𝑖𝑒𝑤𝑠 \n",
    "После чего сравним  t-тестом отличия в группах по метрике 𝑙𝑖𝑛𝑒𝑎𝑟𝑖𝑧𝑒𝑑_𝑙𝑖𝑘𝑒𝑠"
   ]
  },
  {
   "cell_type": "code",
   "execution_count": 73,
   "id": "9cc290d7-37f6-498a-aa56-72b3acfdf061",
   "metadata": {},
   "outputs": [
    {
     "data": {
      "text/html": [
       "<div>\n",
       "<style scoped>\n",
       "    .dataframe tbody tr th:only-of-type {\n",
       "        vertical-align: middle;\n",
       "    }\n",
       "\n",
       "    .dataframe tbody tr th {\n",
       "        vertical-align: top;\n",
       "    }\n",
       "\n",
       "    .dataframe thead th {\n",
       "        text-align: right;\n",
       "    }\n",
       "</style>\n",
       "<table border=\"1\" class=\"dataframe\">\n",
       "  <thead>\n",
       "    <tr style=\"text-align: right;\">\n",
       "      <th></th>\n",
       "      <th>exp_group</th>\n",
       "      <th>user_id</th>\n",
       "      <th>likes</th>\n",
       "      <th>views</th>\n",
       "      <th>ctr</th>\n",
       "    </tr>\n",
       "  </thead>\n",
       "  <tbody>\n",
       "    <tr>\n",
       "      <th>0</th>\n",
       "      <td>0</td>\n",
       "      <td>9999</td>\n",
       "      <td>139862</td>\n",
       "      <td>671651</td>\n",
       "      <td>0.208236</td>\n",
       "    </tr>\n",
       "    <tr>\n",
       "      <th>1</th>\n",
       "      <td>3</td>\n",
       "      <td>10049</td>\n",
       "      <td>150359</td>\n",
       "      <td>670360</td>\n",
       "      <td>0.224296</td>\n",
       "    </tr>\n",
       "  </tbody>\n",
       "</table>\n",
       "</div>"
      ],
      "text/plain": [
       "   exp_group  user_id   likes   views       ctr\n",
       "0          0     9999  139862  671651  0.208236\n",
       "1          3    10049  150359  670360  0.224296"
      ]
     },
     "execution_count": 73,
     "metadata": {},
     "output_type": "execute_result"
    }
   ],
   "source": [
    "data = df.groupby('exp_group',as_index =False).agg({'user_id':'count','likes':'sum','views':'sum'}) \n",
    "data['ctr']=data['likes']/data['views']\n",
    "data"
   ]
  },
  {
   "cell_type": "code",
   "execution_count": 74,
   "id": "c67c8891-e639-479c-a31c-b37587ba51e3",
   "metadata": {},
   "outputs": [
    {
     "data": {
      "text/plain": [
       "0.20823612262916305"
      ]
     },
     "execution_count": 74,
     "metadata": {},
     "output_type": "execute_result"
    }
   ],
   "source": [
    "ctr_control_0 = df[df.exp_group == 0].likes.sum()/df[df.exp_group == 0].views.sum()\n",
    "ctr_control_0"
   ]
  },
  {
   "cell_type": "code",
   "execution_count": 75,
   "id": "ef77a38c-74e5-446a-bf34-bbb9790888ac",
   "metadata": {},
   "outputs": [],
   "source": [
    "df['linearized_likes'] = df.likes - (df.views * ctr_control_0)"
   ]
  },
  {
   "cell_type": "code",
   "execution_count": 76,
   "id": "4cecb906-fd91-4ef3-bd09-5ea0a75c5c5b",
   "metadata": {},
   "outputs": [
    {
     "data": {
      "text/html": [
       "<div>\n",
       "<style scoped>\n",
       "    .dataframe tbody tr th:only-of-type {\n",
       "        vertical-align: middle;\n",
       "    }\n",
       "\n",
       "    .dataframe tbody tr th {\n",
       "        vertical-align: top;\n",
       "    }\n",
       "\n",
       "    .dataframe thead th {\n",
       "        text-align: right;\n",
       "    }\n",
       "</style>\n",
       "<table border=\"1\" class=\"dataframe\">\n",
       "  <thead>\n",
       "    <tr style=\"text-align: right;\">\n",
       "      <th></th>\n",
       "      <th>exp_group</th>\n",
       "      <th>user_id</th>\n",
       "      <th>likes</th>\n",
       "      <th>views</th>\n",
       "      <th>ctr</th>\n",
       "      <th>linearized_likes</th>\n",
       "    </tr>\n",
       "  </thead>\n",
       "  <tbody>\n",
       "    <tr>\n",
       "      <th>0</th>\n",
       "      <td>3</td>\n",
       "      <td>115383</td>\n",
       "      <td>9</td>\n",
       "      <td>30</td>\n",
       "      <td>0.300000</td>\n",
       "      <td>2.752916</td>\n",
       "    </tr>\n",
       "    <tr>\n",
       "      <th>1</th>\n",
       "      <td>3</td>\n",
       "      <td>123580</td>\n",
       "      <td>13</td>\n",
       "      <td>48</td>\n",
       "      <td>0.270833</td>\n",
       "      <td>3.004666</td>\n",
       "    </tr>\n",
       "  </tbody>\n",
       "</table>\n",
       "</div>"
      ],
      "text/plain": [
       "   exp_group  user_id  likes  views       ctr  linearized_likes\n",
       "0          3   115383      9     30  0.300000          2.752916\n",
       "1          3   123580     13     48  0.270833          3.004666"
      ]
     },
     "execution_count": 76,
     "metadata": {},
     "output_type": "execute_result"
    }
   ],
   "source": [
    "df.head(2)"
   ]
  },
  {
   "cell_type": "code",
   "execution_count": 77,
   "id": "39e48701-78e8-4479-96cc-e2498d204a70",
   "metadata": {},
   "outputs": [],
   "source": [
    "pvalue_ll = stats.ttest_ind(df[df.exp_group == 0].linearized_likes,\n",
    "                df[df.exp_group == 3].linearized_likes,\n",
    "                equal_var=False)"
   ]
  },
  {
   "cell_type": "code",
   "execution_count": 78,
   "id": "519f00fd-5e76-4000-bc99-747fc14831f3",
   "metadata": {},
   "outputs": [],
   "source": [
    "def get_smothed_ctr(user_likes, user_views, global_ctr, alpha):\n",
    "    smothed_ctr = (user_likes + alpha * global_ctr)/(user_views + alpha)\n",
    "    return smothed_ctr"
   ]
  },
  {
   "cell_type": "code",
   "execution_count": 79,
   "id": "62494201-616d-4a38-99af-e2381c24a408",
   "metadata": {},
   "outputs": [],
   "source": [
    "global_ctr_1 = df[df.exp_group == 0].likes.sum()/df[df.exp_group == 0].views.sum()\n",
    "global_ctr_2 = df[df.exp_group == 3].likes.sum()/df[df.exp_group == 3].views.sum()\n",
    "group1 = df[df.exp_group == 0].copy()\n",
    "group2 = df[df.exp_group == 3].copy()\n",
    "group1['smothed_ctr'] = df.apply(\n",
    "    lambda x: get_smothed_ctr(x['likes'],x['views'],global_ctr_1,5), axis=1)\n",
    "group2['smothed_ctr'] = df.apply(\n",
    "    lambda x: get_smothed_ctr(x['likes'],x['views'],global_ctr_2,5), axis=1)"
   ]
  },
  {
   "cell_type": "code",
   "execution_count": 80,
   "id": "40d686d4-d641-4195-a8ca-7aedba413e99",
   "metadata": {},
   "outputs": [
    {
     "data": {
      "text/plain": [
       "Ttest_indResult(statistic=-16.340715063416575, pvalue=1.231422928821838e-59)"
      ]
     },
     "execution_count": 80,
     "metadata": {},
     "output_type": "execute_result"
    }
   ],
   "source": [
    "pvalue_CTR = stats.ttest_ind(group1['smothed_ctr'],\n",
    "                group2['smothed_ctr'],\n",
    "                equal_var=False)\n",
    "pvalue_CTR"
   ]
  },
  {
   "cell_type": "code",
   "execution_count": 82,
   "id": "2601c318-c0f7-4392-be8f-e429c869c5ec",
   "metadata": {},
   "outputs": [
    {
     "name": "stdout",
     "output_type": "stream",
     "text": [
      "p-value ttest ctr:  1.231422928821838e-59\n",
      "p-value ttest linearized_likes:  5.4914249479690016e-52\n",
      "Раздичие p-value между ttest linearized_likes и ttest ctr:  -5.491424824826709e-52\n"
     ]
    }
   ],
   "source": [
    "print(\"p-value ttest ctr: \", pvalue_CTR[1])\n",
    "print(\"p-value ttest linearized_likes: \", pvalue_ll[1])\n",
    "print(\"Раздичие p-value между ttest linearized_likes и ttest ctr: \", pvalue_CTR[1]-pvalue_ll[1])"
   ]
  },
  {
   "cell_type": "markdown",
   "id": "f9b2d99c-5c98-4f20-854b-f2070c03c751",
   "metadata": {
    "tags": []
   },
   "source": [
    "#### Нет, p-value стал больше, но незначильно, т.е. новый способ не сделала хуже) Оба теста показывают,что данные в группах статистически различные. В группе 3 ctr выше, можно расскатывать новую фичу на всех."
   ]
  },
  {
   "cell_type": "code",
   "execution_count": 83,
   "id": "97ad06ef-0b1d-450b-85d9-c223f2eb2bff",
   "metadata": {},
   "outputs": [
    {
     "data": {
      "text/plain": [
       "<AxesSubplot:xlabel='smothed_ctr', ylabel='Count'>"
      ]
     },
     "execution_count": 83,
     "metadata": {},
     "output_type": "execute_result"
    },
    {
     "data": {
      "image/png": "[encoded data removed]",
      "text/plain": [
       "<Figure size 432x288 with 1 Axes>"
      ]
     },
     "metadata": {},
     "output_type": "display_data"
    }
   ],
   "source": [
    "sns.histplot(group1['smothed_ctr'])\n",
    "sns.histplot(group2['smothed_ctr'], color = 'red')"
   ]
  },
  {
   "cell_type": "code",
   "execution_count": 84,
   "id": "aa6eaf0e-e9e7-46c8-94a7-af92cd2b9518",
   "metadata": {},
   "outputs": [
    {
     "data": {
      "text/plain": [
       "<AxesSubplot:xlabel='linearized_likes', ylabel='Count'>"
      ]
     },
     "execution_count": 84,
     "metadata": {},
     "output_type": "execute_result"
    },
    {
     "data": {
      "image/png": "[encoded data removed]",
      "text/plain": [
       "<Figure size 432x288 with 1 Axes>"
      ]
     },
     "metadata": {},
     "output_type": "display_data"
    }
   ],
   "source": [
    "sns.histplot(df[df.exp_group == 0]['linearized_likes'])\n",
    "sns.histplot(df[df.exp_group == 3]['linearized_likes'], color = 'red')"
   ]
  },
  {
   "cell_type": "code",
   "execution_count": 85,
   "id": "c553a840-401f-43f2-babe-38a7902a7f25",
   "metadata": {},
   "outputs": [],
   "source": [
    "df_1 = Getch(\n",
    "    '''\n",
    "    select exp_group\n",
    "            ,user_id\n",
    "            ,sum(action='like') as likes\n",
    "            ,sum(action='view') as views\n",
    "            ,likes/views as ctr\n",
    "    from simulator_20220520.feed_actions \n",
    "    where toDate(time) between '2022-04-24' and '2022-04-30'\n",
    "        and exp_group in (1,2)\n",
    "    group by exp_group, user_id\n",
    "    '''\n",
    ").df"
   ]
  },
  {
   "cell_type": "code",
   "execution_count": 86,
   "id": "75ef0497-3858-438a-8a17-edd11a08f53a",
   "metadata": {},
   "outputs": [
    {
     "data": {
      "text/html": [
       "<div>\n",
       "<style scoped>\n",
       "    .dataframe tbody tr th:only-of-type {\n",
       "        vertical-align: middle;\n",
       "    }\n",
       "\n",
       "    .dataframe tbody tr th {\n",
       "        vertical-align: top;\n",
       "    }\n",
       "\n",
       "    .dataframe thead th {\n",
       "        text-align: right;\n",
       "    }\n",
       "</style>\n",
       "<table border=\"1\" class=\"dataframe\">\n",
       "  <thead>\n",
       "    <tr style=\"text-align: right;\">\n",
       "      <th></th>\n",
       "      <th>exp_group</th>\n",
       "      <th>user_id</th>\n",
       "      <th>likes</th>\n",
       "      <th>views</th>\n",
       "      <th>ctr</th>\n",
       "    </tr>\n",
       "  </thead>\n",
       "  <tbody>\n",
       "    <tr>\n",
       "      <th>0</th>\n",
       "      <td>1</td>\n",
       "      <td>10079</td>\n",
       "      <td>139011</td>\n",
       "      <td>668236</td>\n",
       "      <td>0.208027</td>\n",
       "    </tr>\n",
       "    <tr>\n",
       "      <th>1</th>\n",
       "      <td>2</td>\n",
       "      <td>9952</td>\n",
       "      <td>130385</td>\n",
       "      <td>658310</td>\n",
       "      <td>0.198060</td>\n",
       "    </tr>\n",
       "  </tbody>\n",
       "</table>\n",
       "</div>"
      ],
      "text/plain": [
       "   exp_group  user_id   likes   views       ctr\n",
       "0          1    10079  139011  668236  0.208027\n",
       "1          2     9952  130385  658310  0.198060"
      ]
     },
     "execution_count": 86,
     "metadata": {},
     "output_type": "execute_result"
    }
   ],
   "source": [
    "data_1 = df_1.groupby('exp_group',as_index =False).agg({'user_id':'count','likes':'sum','views':'sum'}) \n",
    "data_1['ctr']=data_1['likes']/data_1['views']\n",
    "data_1"
   ]
  },
  {
   "cell_type": "code",
   "execution_count": 87,
   "id": "a0881326-b134-4903-8469-795d4620ac3f",
   "metadata": {},
   "outputs": [
    {
     "data": {
      "text/plain": [
       "0.20802680490126244"
      ]
     },
     "execution_count": 87,
     "metadata": {},
     "output_type": "execute_result"
    }
   ],
   "source": [
    "ctr_control_1 = df_1[df_1.exp_group == 1].likes.sum()/df_1[df_1.exp_group == 1].views.sum()\n",
    "ctr_control_1"
   ]
  },
  {
   "cell_type": "code",
   "execution_count": 88,
   "id": "3a95f61f-a0fa-487d-bca7-2a273908b617",
   "metadata": {},
   "outputs": [],
   "source": [
    "df_1['linearized_likes'] = df_1.likes - (df_1.views * ctr_control_1)"
   ]
  },
  {
   "cell_type": "code",
   "execution_count": 89,
   "id": "5083b2a6-42a7-465d-8b10-d9a3841f0ed3",
   "metadata": {},
   "outputs": [],
   "source": [
    "pvalue_ll_1 = stats.ttest_ind(df_1[df_1.exp_group == 1].linearized_likes,\n",
    "                df_1[df_1.exp_group == 2].linearized_likes,\n",
    "                equal_var=False)"
   ]
  },
  {
   "cell_type": "code",
   "execution_count": 90,
   "id": "d31609a2-932a-45b2-9c3a-83caee865503",
   "metadata": {},
   "outputs": [],
   "source": [
    "global_ctr_1 = df_1[df_1.exp_group == 1].likes.sum()/df_1[df_1.exp_group == 1].views.sum()\n",
    "global_ctr_2 = df_1[df_1.exp_group == 2].likes.sum()/df_1[df_1.exp_group == 2].views.sum()\n",
    "group1 = df_1[df_1.exp_group == 1].copy()\n",
    "group2 = df_1[df_1.exp_group == 2].copy()\n",
    "group1['smothed_ctr'] = df.apply(\n",
    "    lambda x: get_smothed_ctr(x['likes'],x['views'],global_ctr_1,5), axis=1)\n",
    "group2['smothed_ctr'] = df.apply(\n",
    "    lambda x: get_smothed_ctr(x['likes'],x['views'],global_ctr_2,5), axis=1)"
   ]
  },
  {
   "cell_type": "code",
   "execution_count": 91,
   "id": "23a39ed0-14d1-4a38-a570-30997ac126d7",
   "metadata": {},
   "outputs": [
    {
     "data": {
      "text/plain": [
       "Ttest_indResult(statistic=2.6709984704024947, pvalue=0.007568711039438521)"
      ]
     },
     "execution_count": 91,
     "metadata": {},
     "output_type": "execute_result"
    }
   ],
   "source": [
    "pvalue_CTR_1 = stats.ttest_ind(group1['smothed_ctr'],\n",
    "                group2['smothed_ctr'],\n",
    "                equal_var=False)\n",
    "pvalue_CTR_1"
   ]
  },
  {
   "cell_type": "code",
   "execution_count": 92,
   "id": "8e8dacef-e96a-41bb-af30-45e89cb676d4",
   "metadata": {},
   "outputs": [
    {
     "name": "stdout",
     "output_type": "stream",
     "text": [
      "p-value ttest ctr:  0.007568711039438521\n",
      "p-value ttest linearized_likes:  9.439432187037712e-10\n",
      "Раздичие p-value между ttest linearized_likes и ttest ctr:  0.007568710095495302\n"
     ]
    }
   ],
   "source": [
    "print(\"p-value ttest ctr: \", pvalue_CTR_1[1])\n",
    "print(\"p-value ttest linearized_likes: \", pvalue_ll_1[1])\n",
    "print(\"Раздичие p-value между ttest linearized_likes и ttest ctr: \",pvalue_CTR_1[1] -pvalue_ll_1[1])"
   ]
  },
  {
   "cell_type": "markdown",
   "id": "e7ac2350-390a-4b27-b41b-ea44ecca6a45",
   "metadata": {},
   "source": [
    "#### Да, p-value стал значительно меньше (это видно на глаз). Но и t-test показывал различие в данных. В этом случае мы \"бесплатно\" увеличили чувствительность метрики. Оба теста показали, что различие в группе статистически значимо. В группе 2 ctr ниже, не стоит торопиться и расскатывать новую фичу."
   ]
  },
  {
   "cell_type": "code",
   "execution_count": 18,
   "id": "8ff3d3fd-3f32-4747-9fe1-fe9d04f7bd65",
   "metadata": {},
   "outputs": [
    {
     "data": {
      "text/plain": [
       "<AxesSubplot:xlabel='linearized_likes', ylabel='Count'>"
      ]
     },
     "execution_count": 18,
     "metadata": {},
     "output_type": "execute_result"
    },
    {
     "data": {
      "image/png": "[encoded data removed]",
      "text/plain": [
       "<Figure size 432x288 with 1 Axes>"
      ]
     },
     "metadata": {},
     "output_type": "display_data"
    }
   ],
   "source": [
    "sns.histplot(df_1[df_1.exp_group == 1]['linearized_likes'])\n",
    "sns.histplot(df_1[df_1.exp_group == 2]['linearized_likes'], color = 'red')"
   ]
  },
  {
   "cell_type": "code",
   "execution_count": 93,
   "id": "88a90b09-7f2a-47e1-b889-041371a74a85",
   "metadata": {},
   "outputs": [
    {
     "data": {
      "text/plain": [
       "<AxesSubplot:xlabel='smothed_ctr', ylabel='Count'>"
      ]
     },
     "execution_count": 93,
     "metadata": {},
     "output_type": "execute_result"
    },
    {
     "data": {
      "image/png": "[encoded data removed]",
      "text/plain": [
       "<Figure size 432x288 with 1 Axes>"
      ]
     },
     "metadata": {},
     "output_type": "display_data"
    }
   ],
   "source": [
    "sns.histplot(group1['smothed_ctr'])\n",
    "sns.histplot(group2['smothed_ctr'], color = 'red')"
   ]
  },
  {
   "cell_type": "code",
   "execution_count": null,
   "id": "2071cf05-c7af-4406-8314-0b71923504d8",
   "metadata": {},
   "outputs": [],
   "source": []
  }
 ],
 "metadata": {
  "kernelspec": {
   "display_name": "Python 3 (ipykernel)",
   "language": "python",
   "name": "python3"
  },
  "language_info": {
   "codemirror_mode": {
    "name": "ipython",
    "version": 3
   },
   "file_extension": ".py",
   "mimetype": "text/x-python",
   "name": "python",
   "nbconvert_exporter": "python",
   "pygments_lexer": "ipython3",
   "version": "3.8.10"
  }
 },
 "nbformat": 4,
 "nbformat_minor": 5
}
